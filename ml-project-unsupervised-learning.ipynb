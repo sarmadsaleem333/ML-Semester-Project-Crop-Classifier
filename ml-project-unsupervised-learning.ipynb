{
 "cells": [
  {
   "cell_type": "markdown",
   "metadata": {},
   "source": [
    "# CS 471 Machine Learning  \n",
    "## Fall 2024  \n",
    "### Term / Semester Project  \n",
    "\n",
    "# NDVI-Based Crop Classification for Rice and Cotton Using Machine Learning  \n",
    "\n",
    "---\n",
    "\n",
    "## Instructor Name  \n",
    "**Dr. Moazzam Fraz**\n",
    "\n",
    "## Group Members  \n",
    "\n",
    "1. **Muhammad Sarmad Saleem** - CMS ID: 411411  \n",
    "2. **Tayyab Raza** - CMS ID: 404821 "
   ]
  },
  {
   "cell_type": "markdown",
   "metadata": {},
   "source": [
    "# Unsupervised Learning\n",
    "\n",
    "Unsupervised learning is a type of machine learning where models work with unlabeled data to identify hidden patterns, structures, or relationships within the dataset. Unlike supervised learning, which relies on labeled examples, unsupervised learning algorithms operate without explicit guidance, making them useful for exploratory data analysis. Key applications of unsupervised learning include clustering, dimensionality reduction, and anomaly detection, enabling tasks such as customer segmentation, data visualization, and feature extraction. By uncovering underlying data structures, unsupervised learning helps to understand complex datasets and discover meaningful insights.\n"
   ]
  },
  {
   "cell_type": "markdown",
   "metadata": {},
   "source": [
    "# Problem Statement\n",
    "\n",
    "The task is to implement an unsupervised learning approach to identify inherent patterns in NDVI (Normalized Difference Vegetation Index) time series data. The objective is to differentiate between rice and cotton crops based on their distinct growth patterns without using labeled data. The project will require:\n",
    "\n",
    "1. **Clustering Techniques**:  \n",
    "   - Apply unsupervised clustering algorithms to group the data into meaningful clusters.  \n",
    "\n",
    "2. **Dimensionality Reduction**:  \n",
    "   - Analyze clustering results both with and without using Principal Component Analysis (PCA) for dimensionality reduction.  \n",
    "\n",
    "3. **Algorithms to be Used**:  \n",
    "   - K-Means Clustering  \n",
    "   - Hierarchical Clustering  \n",
    "   - DBSCAN (Density-Based Spatial Clustering of Applications with Noise)  \n",
    "   - Gaussian Mixture Models (GMM)  \n",
    "\n",
    "The results of the clustering will be evaluated to determine the effectiveness of the approach in identifying patterns in NDVI data and distinguishing between rice and cotton crops.\n"
   ]
  },
  {
   "cell_type": "markdown",
   "metadata": {},
   "source": [
    "## Libraries Import"
   ]
  },
  {
   "cell_type": "code",
   "execution_count": 1,
   "metadata": {
    "_cell_guid": "854f5995-765f-437d-97fd-b34842c7106f",
    "_uuid": "fe4916aa-13fb-4799-b81c-f1db260b9ec2",
    "collapsed": false,
    "execution": {
     "iopub.execute_input": "2024-12-19T13:28:10.489119Z",
     "iopub.status.busy": "2024-12-19T13:28:10.487744Z",
     "iopub.status.idle": "2024-12-19T13:28:11.706022Z",
     "shell.execute_reply": "2024-12-19T13:28:11.704737Z",
     "shell.execute_reply.started": "2024-12-19T13:28:10.489065Z"
    },
    "jupyter": {
     "outputs_hidden": false
    },
    "trusted": true
   },
   "outputs": [],
   "source": [
    "import pandas as pd\n",
    "import os\n",
    "import numpy as np\n",
    "import os\n",
    "import pandas as pd\n",
    "from imblearn.over_sampling import SMOTE\n",
    "from sklearn.preprocessing import StandardScaler\n",
    "from collections import Counter\n",
    "import warnings\n",
    "warnings.filterwarnings(\"ignore\")\n",
    "\n"
   ]
  },
  {
   "cell_type": "markdown",
   "metadata": {},
   "source": [
    "## Data Loading \n",
    "Loadng data from csv files "
   ]
  },
  {
   "cell_type": "markdown",
   "metadata": {},
   "source": [
    "### General Function\n",
    "\n",
    "The `load_and_process_data` function loads and processes NDVI data for a specified year. It reads all CSV files in the year-specific folder, adds metadata columns (`Year` and `CropType`), and combines the data into a single dataframe.\n",
    "\n",
    "---\n"
   ]
  },
  {
   "cell_type": "code",
   "execution_count": 2,
   "metadata": {
    "execution": {
     "iopub.execute_input": "2024-12-19T13:30:07.851671Z",
     "iopub.status.busy": "2024-12-19T13:30:07.851008Z",
     "iopub.status.idle": "2024-12-19T13:30:07.860313Z",
     "shell.execute_reply": "2024-12-19T13:30:07.858875Z",
     "shell.execute_reply.started": "2024-12-19T13:30:07.851630Z"
    },
    "trusted": true
   },
   "outputs": [],
   "source": [
    "\n",
    "\n",
    "# Create a function to load and process the data for a given year\n",
    "def load_and_process_data(year, data_dir):\n",
    "    # Initialize an empty dataframe to store the data for the specific year\n",
    "    data = pd.DataFrame()\n",
    "\n",
    "    # Get the list of files for the specified year\n",
    "    year_folder = str(year)\n",
    "\n",
    "    files = os.listdir(os.path.join(data_dir, year_folder))\n",
    "    \n",
    "    # Load data from each file in the folder\n",
    "    for filename in files:\n",
    "        if filename.endswith(\".csv\"):\n",
    "            # Read the CSV file\n",
    "            df = pd.read_csv(os.path.join(data_dir, year_folder, filename))\n",
    "            \n",
    "            # Add 'Year' and 'CropType' to the dataframe\n",
    "            base_name = filename.split('.')[0]\n",
    "            croptype = base_name.rsplit('202', 1)[0]  # Assuming the 'CropType' is before '202'\n",
    "            df['Year'] = year\n",
    "            df['CropType'] = croptype\n",
    "            \n",
    "            # Append to the main dataframe\n",
    "            data = pd.concat([data, df], ignore_index=True)\n",
    "    \n",
    "\n",
    "    return data\n",
    "\n"
   ]
  },
  {
   "cell_type": "markdown",
   "metadata": {},
   "source": [
    "Here below processing each file and saving in dataframe"
   ]
  },
  {
   "cell_type": "code",
   "execution_count": 3,
   "metadata": {
    "execution": {
     "iopub.execute_input": "2024-12-19T13:30:10.857725Z",
     "iopub.status.busy": "2024-12-19T13:30:10.857303Z",
     "iopub.status.idle": "2024-12-19T13:30:11.068611Z",
     "shell.execute_reply": "2024-12-19T13:30:11.067168Z",
     "shell.execute_reply.started": "2024-12-19T13:30:10.857686Z"
    },
    "trusted": true
   },
   "outputs": [
    {
     "name": "stdout",
     "output_type": "stream",
     "text": [
      "Data processing complete\n"
     ]
    }
   ],
   "source": [
    "# Process data for 2021, 2022, and 2023\n",
    "\n",
    "# Define the directory where the data files are stored\n",
    "data_dir = \"C:/Users/sarma/Desktop/ML Project/Dataset\"\n",
    "\n",
    "data_2021 = load_and_process_data(2021, data_dir)\n",
    "\n",
    "data_2022 = load_and_process_data(2022, data_dir)\n",
    "\n",
    "data_2023 = load_and_process_data(2023, data_dir)\n",
    "\n",
    "\n",
    "print(\"Data processing complete\")"
   ]
  },
  {
   "cell_type": "markdown",
   "metadata": {},
   "source": [
    "### Printing each year dataset\n",
    "\n",
    "\n",
    "\n",
    "\n",
    "\n",
    "\n",
    "\n",
    "\n",
    "\n",
    "\n",
    "\n",
    "\n",
    "\n",
    "\n"
   ]
  },
  {
   "cell_type": "code",
   "execution_count": 4,
   "metadata": {
    "execution": {
     "iopub.execute_input": "2024-12-18T13:00:53.558544Z",
     "iopub.status.busy": "2024-12-18T13:00:53.558143Z",
     "iopub.status.idle": "2024-12-18T13:00:53.586306Z",
     "shell.execute_reply": "2024-12-18T13:00:53.585142Z",
     "shell.execute_reply.started": "2024-12-18T13:00:53.558500Z"
    },
    "trusted": true
   },
   "outputs": [
    {
     "data": {
      "text/html": [
       "<div>\n",
       "<style scoped>\n",
       "    .dataframe tbody tr th:only-of-type {\n",
       "        vertical-align: middle;\n",
       "    }\n",
       "\n",
       "    .dataframe tbody tr th {\n",
       "        vertical-align: top;\n",
       "    }\n",
       "\n",
       "    .dataframe thead th {\n",
       "        text-align: right;\n",
       "    }\n",
       "</style>\n",
       "<table border=\"1\" class=\"dataframe\">\n",
       "  <thead>\n",
       "    <tr style=\"text-align: right;\">\n",
       "      <th></th>\n",
       "      <th>NDVI01</th>\n",
       "      <th>NDVI02</th>\n",
       "      <th>NDVI03</th>\n",
       "      <th>NDVI04</th>\n",
       "      <th>NDVI05</th>\n",
       "      <th>NDVI06</th>\n",
       "      <th>NDVI07</th>\n",
       "      <th>NDVI08</th>\n",
       "      <th>NDVI09</th>\n",
       "      <th>NDVI10</th>\n",
       "      <th>NDVI11</th>\n",
       "      <th>NDVI12</th>\n",
       "      <th>Year</th>\n",
       "      <th>CropType</th>\n",
       "    </tr>\n",
       "  </thead>\n",
       "  <tbody>\n",
       "    <tr>\n",
       "      <th>0</th>\n",
       "      <td>0.153184</td>\n",
       "      <td>0.222615</td>\n",
       "      <td>0.498528</td>\n",
       "      <td>0.611280</td>\n",
       "      <td>0.285032</td>\n",
       "      <td>0.112775</td>\n",
       "      <td>0.529626</td>\n",
       "      <td>0.546617</td>\n",
       "      <td>0.604374</td>\n",
       "      <td>0.571359</td>\n",
       "      <td>0.620985</td>\n",
       "      <td>0.496628</td>\n",
       "      <td>2021</td>\n",
       "      <td>cotton</td>\n",
       "    </tr>\n",
       "    <tr>\n",
       "      <th>1</th>\n",
       "      <td>0.137897</td>\n",
       "      <td>0.106036</td>\n",
       "      <td>0.169626</td>\n",
       "      <td>0.330396</td>\n",
       "      <td>0.594655</td>\n",
       "      <td>0.227967</td>\n",
       "      <td>0.578199</td>\n",
       "      <td>0.661604</td>\n",
       "      <td>0.783454</td>\n",
       "      <td>0.777313</td>\n",
       "      <td>0.729177</td>\n",
       "      <td>0.636792</td>\n",
       "      <td>2021</td>\n",
       "      <td>cotton</td>\n",
       "    </tr>\n",
       "    <tr>\n",
       "      <th>2</th>\n",
       "      <td>0.122481</td>\n",
       "      <td>0.088123</td>\n",
       "      <td>0.182121</td>\n",
       "      <td>0.376037</td>\n",
       "      <td>0.431042</td>\n",
       "      <td>0.350422</td>\n",
       "      <td>0.630027</td>\n",
       "      <td>0.724557</td>\n",
       "      <td>0.844643</td>\n",
       "      <td>0.673307</td>\n",
       "      <td>0.736385</td>\n",
       "      <td>0.635118</td>\n",
       "      <td>2021</td>\n",
       "      <td>cotton</td>\n",
       "    </tr>\n",
       "    <tr>\n",
       "      <th>3</th>\n",
       "      <td>0.085279</td>\n",
       "      <td>0.091887</td>\n",
       "      <td>0.140729</td>\n",
       "      <td>0.243528</td>\n",
       "      <td>0.224835</td>\n",
       "      <td>0.046875</td>\n",
       "      <td>0.579180</td>\n",
       "      <td>0.666857</td>\n",
       "      <td>0.611009</td>\n",
       "      <td>0.625423</td>\n",
       "      <td>0.612167</td>\n",
       "      <td>0.208681</td>\n",
       "      <td>2021</td>\n",
       "      <td>cotton</td>\n",
       "    </tr>\n",
       "    <tr>\n",
       "      <th>4</th>\n",
       "      <td>0.091678</td>\n",
       "      <td>0.094313</td>\n",
       "      <td>0.247900</td>\n",
       "      <td>0.367800</td>\n",
       "      <td>0.546883</td>\n",
       "      <td>0.476697</td>\n",
       "      <td>0.699308</td>\n",
       "      <td>0.768818</td>\n",
       "      <td>0.753445</td>\n",
       "      <td>0.711491</td>\n",
       "      <td>0.707040</td>\n",
       "      <td>0.647931</td>\n",
       "      <td>2021</td>\n",
       "      <td>cotton</td>\n",
       "    </tr>\n",
       "  </tbody>\n",
       "</table>\n",
       "</div>"
      ],
      "text/plain": [
       "     NDVI01    NDVI02    NDVI03    NDVI04    NDVI05    NDVI06    NDVI07  \\\n",
       "0  0.153184  0.222615  0.498528  0.611280  0.285032  0.112775  0.529626   \n",
       "1  0.137897  0.106036  0.169626  0.330396  0.594655  0.227967  0.578199   \n",
       "2  0.122481  0.088123  0.182121  0.376037  0.431042  0.350422  0.630027   \n",
       "3  0.085279  0.091887  0.140729  0.243528  0.224835  0.046875  0.579180   \n",
       "4  0.091678  0.094313  0.247900  0.367800  0.546883  0.476697  0.699308   \n",
       "\n",
       "     NDVI08    NDVI09    NDVI10    NDVI11    NDVI12  Year CropType  \n",
       "0  0.546617  0.604374  0.571359  0.620985  0.496628  2021   cotton  \n",
       "1  0.661604  0.783454  0.777313  0.729177  0.636792  2021   cotton  \n",
       "2  0.724557  0.844643  0.673307  0.736385  0.635118  2021   cotton  \n",
       "3  0.666857  0.611009  0.625423  0.612167  0.208681  2021   cotton  \n",
       "4  0.768818  0.753445  0.711491  0.707040  0.647931  2021   cotton  "
      ]
     },
     "execution_count": 4,
     "metadata": {},
     "output_type": "execute_result"
    }
   ],
   "source": [
    "data_2021.head()"
   ]
  },
  {
   "cell_type": "code",
   "execution_count": 5,
   "metadata": {
    "execution": {
     "iopub.execute_input": "2024-12-18T13:00:53.588427Z",
     "iopub.status.busy": "2024-12-18T13:00:53.587952Z",
     "iopub.status.idle": "2024-12-18T13:00:53.609199Z",
     "shell.execute_reply": "2024-12-18T13:00:53.607846Z",
     "shell.execute_reply.started": "2024-12-18T13:00:53.588374Z"
    },
    "trusted": true
   },
   "outputs": [
    {
     "data": {
      "text/html": [
       "<div>\n",
       "<style scoped>\n",
       "    .dataframe tbody tr th:only-of-type {\n",
       "        vertical-align: middle;\n",
       "    }\n",
       "\n",
       "    .dataframe tbody tr th {\n",
       "        vertical-align: top;\n",
       "    }\n",
       "\n",
       "    .dataframe thead th {\n",
       "        text-align: right;\n",
       "    }\n",
       "</style>\n",
       "<table border=\"1\" class=\"dataframe\">\n",
       "  <thead>\n",
       "    <tr style=\"text-align: right;\">\n",
       "      <th></th>\n",
       "      <th>NDVI01</th>\n",
       "      <th>NDVI02</th>\n",
       "      <th>NDVI03</th>\n",
       "      <th>NDVI04</th>\n",
       "      <th>NDVI05</th>\n",
       "      <th>NDVI06</th>\n",
       "      <th>NDVI07</th>\n",
       "      <th>NDVI08</th>\n",
       "      <th>NDVI09</th>\n",
       "      <th>NDVI10</th>\n",
       "      <th>NDVI11</th>\n",
       "      <th>NDVI12</th>\n",
       "      <th>Year</th>\n",
       "      <th>CropType</th>\n",
       "    </tr>\n",
       "  </thead>\n",
       "  <tbody>\n",
       "    <tr>\n",
       "      <th>0</th>\n",
       "      <td>0.088053</td>\n",
       "      <td>0.122912</td>\n",
       "      <td>0.203632</td>\n",
       "      <td>0.413183</td>\n",
       "      <td>0.824614</td>\n",
       "      <td>-0.012009</td>\n",
       "      <td>0.707493</td>\n",
       "      <td>0.553634</td>\n",
       "      <td>0.678005</td>\n",
       "      <td>0.601276</td>\n",
       "      <td>0.558074</td>\n",
       "      <td>0.264170</td>\n",
       "      <td>2022</td>\n",
       "      <td>cotton</td>\n",
       "    </tr>\n",
       "    <tr>\n",
       "      <th>1</th>\n",
       "      <td>0.153362</td>\n",
       "      <td>0.306787</td>\n",
       "      <td>0.199341</td>\n",
       "      <td>0.344232</td>\n",
       "      <td>0.565855</td>\n",
       "      <td>-0.013706</td>\n",
       "      <td>0.512479</td>\n",
       "      <td>0.383124</td>\n",
       "      <td>0.508259</td>\n",
       "      <td>0.485459</td>\n",
       "      <td>0.426386</td>\n",
       "      <td>0.201609</td>\n",
       "      <td>2022</td>\n",
       "      <td>cotton</td>\n",
       "    </tr>\n",
       "    <tr>\n",
       "      <th>2</th>\n",
       "      <td>0.106067</td>\n",
       "      <td>0.140156</td>\n",
       "      <td>0.328443</td>\n",
       "      <td>0.432596</td>\n",
       "      <td>0.567783</td>\n",
       "      <td>0.049462</td>\n",
       "      <td>0.738598</td>\n",
       "      <td>0.613374</td>\n",
       "      <td>0.881896</td>\n",
       "      <td>0.774641</td>\n",
       "      <td>0.718519</td>\n",
       "      <td>0.608508</td>\n",
       "      <td>2022</td>\n",
       "      <td>cotton</td>\n",
       "    </tr>\n",
       "    <tr>\n",
       "      <th>3</th>\n",
       "      <td>0.091542</td>\n",
       "      <td>0.120096</td>\n",
       "      <td>0.244057</td>\n",
       "      <td>0.370085</td>\n",
       "      <td>0.502907</td>\n",
       "      <td>0.016404</td>\n",
       "      <td>0.617543</td>\n",
       "      <td>0.638213</td>\n",
       "      <td>0.856499</td>\n",
       "      <td>0.782228</td>\n",
       "      <td>0.730698</td>\n",
       "      <td>0.588019</td>\n",
       "      <td>2022</td>\n",
       "      <td>cotton</td>\n",
       "    </tr>\n",
       "    <tr>\n",
       "      <th>4</th>\n",
       "      <td>0.080412</td>\n",
       "      <td>0.116872</td>\n",
       "      <td>0.291829</td>\n",
       "      <td>0.427347</td>\n",
       "      <td>0.688564</td>\n",
       "      <td>0.012112</td>\n",
       "      <td>0.517153</td>\n",
       "      <td>0.594714</td>\n",
       "      <td>0.845494</td>\n",
       "      <td>0.772517</td>\n",
       "      <td>0.730694</td>\n",
       "      <td>0.628959</td>\n",
       "      <td>2022</td>\n",
       "      <td>cotton</td>\n",
       "    </tr>\n",
       "  </tbody>\n",
       "</table>\n",
       "</div>"
      ],
      "text/plain": [
       "     NDVI01    NDVI02    NDVI03    NDVI04    NDVI05    NDVI06    NDVI07  \\\n",
       "0  0.088053  0.122912  0.203632  0.413183  0.824614 -0.012009  0.707493   \n",
       "1  0.153362  0.306787  0.199341  0.344232  0.565855 -0.013706  0.512479   \n",
       "2  0.106067  0.140156  0.328443  0.432596  0.567783  0.049462  0.738598   \n",
       "3  0.091542  0.120096  0.244057  0.370085  0.502907  0.016404  0.617543   \n",
       "4  0.080412  0.116872  0.291829  0.427347  0.688564  0.012112  0.517153   \n",
       "\n",
       "     NDVI08    NDVI09    NDVI10    NDVI11    NDVI12  Year CropType  \n",
       "0  0.553634  0.678005  0.601276  0.558074  0.264170  2022   cotton  \n",
       "1  0.383124  0.508259  0.485459  0.426386  0.201609  2022   cotton  \n",
       "2  0.613374  0.881896  0.774641  0.718519  0.608508  2022   cotton  \n",
       "3  0.638213  0.856499  0.782228  0.730698  0.588019  2022   cotton  \n",
       "4  0.594714  0.845494  0.772517  0.730694  0.628959  2022   cotton  "
      ]
     },
     "execution_count": 5,
     "metadata": {},
     "output_type": "execute_result"
    }
   ],
   "source": [
    "data_2022.head()"
   ]
  },
  {
   "cell_type": "code",
   "execution_count": 6,
   "metadata": {
    "execution": {
     "iopub.execute_input": "2024-12-18T13:00:53.611108Z",
     "iopub.status.busy": "2024-12-18T13:00:53.610742Z",
     "iopub.status.idle": "2024-12-18T13:00:53.637040Z",
     "shell.execute_reply": "2024-12-18T13:00:53.635635Z",
     "shell.execute_reply.started": "2024-12-18T13:00:53.611075Z"
    },
    "trusted": true
   },
   "outputs": [
    {
     "data": {
      "text/html": [
       "<div>\n",
       "<style scoped>\n",
       "    .dataframe tbody tr th:only-of-type {\n",
       "        vertical-align: middle;\n",
       "    }\n",
       "\n",
       "    .dataframe tbody tr th {\n",
       "        vertical-align: top;\n",
       "    }\n",
       "\n",
       "    .dataframe thead th {\n",
       "        text-align: right;\n",
       "    }\n",
       "</style>\n",
       "<table border=\"1\" class=\"dataframe\">\n",
       "  <thead>\n",
       "    <tr style=\"text-align: right;\">\n",
       "      <th></th>\n",
       "      <th>NDVI01</th>\n",
       "      <th>NDVI02</th>\n",
       "      <th>NDVI03</th>\n",
       "      <th>NDVI04</th>\n",
       "      <th>NDVI05</th>\n",
       "      <th>NDVI06</th>\n",
       "      <th>NDVI07</th>\n",
       "      <th>NDVI08</th>\n",
       "      <th>NDVI09</th>\n",
       "      <th>NDVI10</th>\n",
       "      <th>NDVI11</th>\n",
       "      <th>NDVI12</th>\n",
       "      <th>Year</th>\n",
       "      <th>CropType</th>\n",
       "    </tr>\n",
       "  </thead>\n",
       "  <tbody>\n",
       "    <tr>\n",
       "      <th>0</th>\n",
       "      <td>0.112304</td>\n",
       "      <td>0.168831</td>\n",
       "      <td>0.357419</td>\n",
       "      <td>0.652470</td>\n",
       "      <td>0.511220</td>\n",
       "      <td>0.071754</td>\n",
       "      <td>0.746601</td>\n",
       "      <td>0.714075</td>\n",
       "      <td>0.747262</td>\n",
       "      <td>0.729675</td>\n",
       "      <td>0.634746</td>\n",
       "      <td>0.199640</td>\n",
       "      <td>2023</td>\n",
       "      <td>cotton</td>\n",
       "    </tr>\n",
       "    <tr>\n",
       "      <th>1</th>\n",
       "      <td>0.111033</td>\n",
       "      <td>0.149460</td>\n",
       "      <td>0.360941</td>\n",
       "      <td>0.404814</td>\n",
       "      <td>0.385993</td>\n",
       "      <td>0.089474</td>\n",
       "      <td>0.647436</td>\n",
       "      <td>0.637131</td>\n",
       "      <td>0.677606</td>\n",
       "      <td>0.663667</td>\n",
       "      <td>0.581217</td>\n",
       "      <td>0.438363</td>\n",
       "      <td>2023</td>\n",
       "      <td>cotton</td>\n",
       "    </tr>\n",
       "    <tr>\n",
       "      <th>2</th>\n",
       "      <td>0.102703</td>\n",
       "      <td>0.226310</td>\n",
       "      <td>0.554877</td>\n",
       "      <td>0.790602</td>\n",
       "      <td>0.812145</td>\n",
       "      <td>0.090364</td>\n",
       "      <td>0.866772</td>\n",
       "      <td>0.787777</td>\n",
       "      <td>0.838983</td>\n",
       "      <td>0.784251</td>\n",
       "      <td>0.711433</td>\n",
       "      <td>0.869757</td>\n",
       "      <td>2023</td>\n",
       "      <td>cotton</td>\n",
       "    </tr>\n",
       "    <tr>\n",
       "      <th>3</th>\n",
       "      <td>0.090742</td>\n",
       "      <td>0.079962</td>\n",
       "      <td>0.355833</td>\n",
       "      <td>0.864751</td>\n",
       "      <td>0.837066</td>\n",
       "      <td>0.149301</td>\n",
       "      <td>0.890619</td>\n",
       "      <td>0.795135</td>\n",
       "      <td>0.834237</td>\n",
       "      <td>0.774393</td>\n",
       "      <td>0.683996</td>\n",
       "      <td>0.840936</td>\n",
       "      <td>2023</td>\n",
       "      <td>cotton</td>\n",
       "    </tr>\n",
       "    <tr>\n",
       "      <th>4</th>\n",
       "      <td>0.100312</td>\n",
       "      <td>0.077954</td>\n",
       "      <td>0.328019</td>\n",
       "      <td>0.697031</td>\n",
       "      <td>0.722988</td>\n",
       "      <td>0.242764</td>\n",
       "      <td>0.869281</td>\n",
       "      <td>0.811822</td>\n",
       "      <td>0.836173</td>\n",
       "      <td>0.802686</td>\n",
       "      <td>0.700463</td>\n",
       "      <td>0.848245</td>\n",
       "      <td>2023</td>\n",
       "      <td>cotton</td>\n",
       "    </tr>\n",
       "  </tbody>\n",
       "</table>\n",
       "</div>"
      ],
      "text/plain": [
       "     NDVI01    NDVI02    NDVI03    NDVI04    NDVI05    NDVI06    NDVI07  \\\n",
       "0  0.112304  0.168831  0.357419  0.652470  0.511220  0.071754  0.746601   \n",
       "1  0.111033  0.149460  0.360941  0.404814  0.385993  0.089474  0.647436   \n",
       "2  0.102703  0.226310  0.554877  0.790602  0.812145  0.090364  0.866772   \n",
       "3  0.090742  0.079962  0.355833  0.864751  0.837066  0.149301  0.890619   \n",
       "4  0.100312  0.077954  0.328019  0.697031  0.722988  0.242764  0.869281   \n",
       "\n",
       "     NDVI08    NDVI09    NDVI10    NDVI11    NDVI12  Year CropType  \n",
       "0  0.714075  0.747262  0.729675  0.634746  0.199640  2023   cotton  \n",
       "1  0.637131  0.677606  0.663667  0.581217  0.438363  2023   cotton  \n",
       "2  0.787777  0.838983  0.784251  0.711433  0.869757  2023   cotton  \n",
       "3  0.795135  0.834237  0.774393  0.683996  0.840936  2023   cotton  \n",
       "4  0.811822  0.836173  0.802686  0.700463  0.848245  2023   cotton  "
      ]
     },
     "execution_count": 6,
     "metadata": {},
     "output_type": "execute_result"
    }
   ],
   "source": [
    "data_2023.head()"
   ]
  },
  {
   "cell_type": "markdown",
   "metadata": {},
   "source": [
    "## Data Preprocessing "
   ]
  },
  {
   "cell_type": "markdown",
   "metadata": {},
   "source": [
    "### Encoding Values\n",
    "\n",
    "When working with categorical data, it's important to choose the right encoding method to ensure the data is represented accurately for machine learning models. \n",
    "\n",
    "In our case, we have two classes: **cotton** and **rice**. To encode these classes, we decided to use **one-hot encoding** instead of **label encoding**. Here’s why:\n",
    "\n",
    "1. **No Ordinal Relationship**:  \n",
    "   Label encoding assigns integer values (e.g., `0` for cotton and `1` for rice). However, this introduces an implicit ordinal relationship between the categories, suggesting that one class is \"greater\" or \"less\" than the other. Since there is no natural ordering between cotton and rice, label encoding could mislead the model into making incorrect assumptions.\n",
    "\n",
    "2. **One-Hot Encoding**:  \n",
    "   One-hot encoding resolves this issue by representing each class as a binary vector. For example:  \n",
    "   - Cotton: `[1, 0]`  \n",
    "   - Rice: `[0, 1]`  \n",
    "\n",
    "   Each category is treated as an independent feature, ensuring that the model does not assume any unintended hierarchy or order.\n",
    "\n",
    "By using one-hot encoding, we effectively preserve the categorical nature of the data while avoiding any unintended biases that might arise from label encoding. This method is particularly suitable when dealing with non-ordinal categorical.\n",
    "data like ours.\n",
    "\n",
    "\n",
    "\n"
   ]
  },
  {
   "cell_type": "code",
   "execution_count": 7,
   "metadata": {
    "trusted": true
   },
   "outputs": [],
   "source": [
    "# function for encoding the values\n",
    "\n",
    "\n",
    "def encode_values(data):\n",
    "    data = pd.get_dummies(data,columns=['CropType'], drop_first=True)\n",
    "    data[\"CropType_rice\"]=data[\"CropType_rice\"].astype(int)\n",
    "    return data\n",
    "    "
   ]
  },
  {
   "cell_type": "markdown",
   "metadata": {},
   "source": [
    "Encoding the values"
   ]
  },
  {
   "cell_type": "code",
   "execution_count": 9,
   "metadata": {
    "execution": {
     "iopub.execute_input": "2024-12-18T13:07:32.331604Z",
     "iopub.status.busy": "2024-12-18T13:07:32.331114Z",
     "iopub.status.idle": "2024-12-18T13:07:32.382244Z",
     "shell.execute_reply": "2024-12-18T13:07:32.379971Z",
     "shell.execute_reply.started": "2024-12-18T13:07:32.331558Z"
    },
    "trusted": true
   },
   "outputs": [],
   "source": [
    "data_2021=encode_values(data_2021)\n",
    "data_2022=encode_values(data_2022)\n",
    "data_2023=encode_values(data_2023)"
   ]
  },
  {
   "cell_type": "markdown",
   "metadata": {},
   "source": [
    "##### Explanation\n",
    "Now here are new column is CropType_rice which is 1 for rice and 0 for cotton"
   ]
  },
  {
   "cell_type": "code",
   "execution_count": 10,
   "metadata": {
    "execution": {
     "iopub.execute_input": "2024-12-18T13:07:33.717513Z",
     "iopub.status.busy": "2024-12-18T13:07:33.716981Z",
     "iopub.status.idle": "2024-12-18T13:07:33.744993Z",
     "shell.execute_reply": "2024-12-18T13:07:33.742363Z",
     "shell.execute_reply.started": "2024-12-18T13:07:33.717471Z"
    },
    "trusted": true
   },
   "outputs": [
    {
     "data": {
      "text/html": [
       "<div>\n",
       "<style scoped>\n",
       "    .dataframe tbody tr th:only-of-type {\n",
       "        vertical-align: middle;\n",
       "    }\n",
       "\n",
       "    .dataframe tbody tr th {\n",
       "        vertical-align: top;\n",
       "    }\n",
       "\n",
       "    .dataframe thead th {\n",
       "        text-align: right;\n",
       "    }\n",
       "</style>\n",
       "<table border=\"1\" class=\"dataframe\">\n",
       "  <thead>\n",
       "    <tr style=\"text-align: right;\">\n",
       "      <th></th>\n",
       "      <th>NDVI01</th>\n",
       "      <th>NDVI02</th>\n",
       "      <th>NDVI03</th>\n",
       "      <th>NDVI04</th>\n",
       "      <th>NDVI05</th>\n",
       "      <th>NDVI06</th>\n",
       "      <th>NDVI07</th>\n",
       "      <th>NDVI08</th>\n",
       "      <th>NDVI09</th>\n",
       "      <th>NDVI10</th>\n",
       "      <th>NDVI11</th>\n",
       "      <th>NDVI12</th>\n",
       "      <th>Year</th>\n",
       "      <th>CropType_rice</th>\n",
       "    </tr>\n",
       "  </thead>\n",
       "  <tbody>\n",
       "    <tr>\n",
       "      <th>0</th>\n",
       "      <td>0.153184</td>\n",
       "      <td>0.222615</td>\n",
       "      <td>0.498528</td>\n",
       "      <td>0.611280</td>\n",
       "      <td>0.285032</td>\n",
       "      <td>0.112775</td>\n",
       "      <td>0.529626</td>\n",
       "      <td>0.546617</td>\n",
       "      <td>0.604374</td>\n",
       "      <td>0.571359</td>\n",
       "      <td>0.620985</td>\n",
       "      <td>0.496628</td>\n",
       "      <td>2021</td>\n",
       "      <td>0</td>\n",
       "    </tr>\n",
       "    <tr>\n",
       "      <th>1</th>\n",
       "      <td>0.137897</td>\n",
       "      <td>0.106036</td>\n",
       "      <td>0.169626</td>\n",
       "      <td>0.330396</td>\n",
       "      <td>0.594655</td>\n",
       "      <td>0.227967</td>\n",
       "      <td>0.578199</td>\n",
       "      <td>0.661604</td>\n",
       "      <td>0.783454</td>\n",
       "      <td>0.777313</td>\n",
       "      <td>0.729177</td>\n",
       "      <td>0.636792</td>\n",
       "      <td>2021</td>\n",
       "      <td>0</td>\n",
       "    </tr>\n",
       "    <tr>\n",
       "      <th>2</th>\n",
       "      <td>0.122481</td>\n",
       "      <td>0.088123</td>\n",
       "      <td>0.182121</td>\n",
       "      <td>0.376037</td>\n",
       "      <td>0.431042</td>\n",
       "      <td>0.350422</td>\n",
       "      <td>0.630027</td>\n",
       "      <td>0.724557</td>\n",
       "      <td>0.844643</td>\n",
       "      <td>0.673307</td>\n",
       "      <td>0.736385</td>\n",
       "      <td>0.635118</td>\n",
       "      <td>2021</td>\n",
       "      <td>0</td>\n",
       "    </tr>\n",
       "    <tr>\n",
       "      <th>3</th>\n",
       "      <td>0.085279</td>\n",
       "      <td>0.091887</td>\n",
       "      <td>0.140729</td>\n",
       "      <td>0.243528</td>\n",
       "      <td>0.224835</td>\n",
       "      <td>0.046875</td>\n",
       "      <td>0.579180</td>\n",
       "      <td>0.666857</td>\n",
       "      <td>0.611009</td>\n",
       "      <td>0.625423</td>\n",
       "      <td>0.612167</td>\n",
       "      <td>0.208681</td>\n",
       "      <td>2021</td>\n",
       "      <td>0</td>\n",
       "    </tr>\n",
       "    <tr>\n",
       "      <th>4</th>\n",
       "      <td>0.091678</td>\n",
       "      <td>0.094313</td>\n",
       "      <td>0.247900</td>\n",
       "      <td>0.367800</td>\n",
       "      <td>0.546883</td>\n",
       "      <td>0.476697</td>\n",
       "      <td>0.699308</td>\n",
       "      <td>0.768818</td>\n",
       "      <td>0.753445</td>\n",
       "      <td>0.711491</td>\n",
       "      <td>0.707040</td>\n",
       "      <td>0.647931</td>\n",
       "      <td>2021</td>\n",
       "      <td>0</td>\n",
       "    </tr>\n",
       "  </tbody>\n",
       "</table>\n",
       "</div>"
      ],
      "text/plain": [
       "     NDVI01    NDVI02    NDVI03    NDVI04    NDVI05    NDVI06    NDVI07  \\\n",
       "0  0.153184  0.222615  0.498528  0.611280  0.285032  0.112775  0.529626   \n",
       "1  0.137897  0.106036  0.169626  0.330396  0.594655  0.227967  0.578199   \n",
       "2  0.122481  0.088123  0.182121  0.376037  0.431042  0.350422  0.630027   \n",
       "3  0.085279  0.091887  0.140729  0.243528  0.224835  0.046875  0.579180   \n",
       "4  0.091678  0.094313  0.247900  0.367800  0.546883  0.476697  0.699308   \n",
       "\n",
       "     NDVI08    NDVI09    NDVI10    NDVI11    NDVI12  Year  CropType_rice  \n",
       "0  0.546617  0.604374  0.571359  0.620985  0.496628  2021              0  \n",
       "1  0.661604  0.783454  0.777313  0.729177  0.636792  2021              0  \n",
       "2  0.724557  0.844643  0.673307  0.736385  0.635118  2021              0  \n",
       "3  0.666857  0.611009  0.625423  0.612167  0.208681  2021              0  \n",
       "4  0.768818  0.753445  0.711491  0.707040  0.647931  2021              0  "
      ]
     },
     "execution_count": 10,
     "metadata": {},
     "output_type": "execute_result"
    }
   ],
   "source": [
    "data_2021.head()"
   ]
  },
  {
   "cell_type": "markdown",
   "metadata": {},
   "source": [
    "### Checking Class Balance\n",
    "\n",
    "Here checking the class balance of each crop and rice how many samples are of each class there"
   ]
  },
  {
   "cell_type": "code",
   "execution_count": 11,
   "metadata": {
    "execution": {
     "iopub.execute_input": "2024-12-18T13:07:37.502219Z",
     "iopub.status.busy": "2024-12-18T13:07:37.501577Z",
     "iopub.status.idle": "2024-12-18T13:07:37.519820Z",
     "shell.execute_reply": "2024-12-18T13:07:37.518514Z",
     "shell.execute_reply.started": "2024-12-18T13:07:37.502168Z"
    },
    "trusted": true
   },
   "outputs": [
    {
     "data": {
      "text/plain": [
       "CropType_rice\n",
       "0    2883\n",
       "1     419\n",
       "Name: count, dtype: int64"
      ]
     },
     "execution_count": 11,
     "metadata": {},
     "output_type": "execute_result"
    }
   ],
   "source": [
    "class_balance = data_2021[\"CropType_rice\"].value_counts()\n",
    "\n",
    "class_balance"
   ]
  },
  {
   "cell_type": "code",
   "execution_count": 12,
   "metadata": {
    "execution": {
     "iopub.execute_input": "2024-12-18T13:07:47.340898Z",
     "iopub.status.busy": "2024-12-18T13:07:47.340473Z",
     "iopub.status.idle": "2024-12-18T13:07:47.350591Z",
     "shell.execute_reply": "2024-12-18T13:07:47.349422Z",
     "shell.execute_reply.started": "2024-12-18T13:07:47.340858Z"
    },
    "trusted": true
   },
   "outputs": [
    {
     "data": {
      "text/plain": [
       "CropType_rice\n",
       "0    12411\n",
       "1     4687\n",
       "Name: count, dtype: int64"
      ]
     },
     "execution_count": 12,
     "metadata": {},
     "output_type": "execute_result"
    }
   ],
   "source": [
    "class_balance = data_2022[\"CropType_rice\"].value_counts()\n",
    "\n",
    "class_balance"
   ]
  },
  {
   "cell_type": "code",
   "execution_count": 13,
   "metadata": {
    "execution": {
     "iopub.execute_input": "2024-12-18T13:07:48.039890Z",
     "iopub.status.busy": "2024-12-18T13:07:48.039477Z",
     "iopub.status.idle": "2024-12-18T13:07:48.051279Z",
     "shell.execute_reply": "2024-12-18T13:07:48.049176Z",
     "shell.execute_reply.started": "2024-12-18T13:07:48.039854Z"
    },
    "trusted": true
   },
   "outputs": [
    {
     "data": {
      "text/plain": [
       "CropType_rice\n",
       "0    11777\n",
       "1      919\n",
       "Name: count, dtype: int64"
      ]
     },
     "execution_count": 13,
     "metadata": {},
     "output_type": "execute_result"
    }
   ],
   "source": [
    "class_balance = data_2023[\"CropType_rice\"].value_counts()\n",
    "\n",
    "class_balance"
   ]
  },
  {
   "cell_type": "markdown",
   "metadata": {},
   "source": [
    "### Explanation\n",
    "\n",
    "The class distribution in our dataset is highly imbalanced, which can negatively impact the training process and reduce the model's accuracy. Imbalanced data can cause the model to favor the majority class, leading to biased predictions and poor generalization.\n",
    "\n",
    "To mitigate this issue, it’s important to apply techniques that address class imbalance. One approach is to try every possible combination or strategy, such as oversampling the minority class, undersampling the majority class, or using advanced methods like SMOTE (Synthetic Minority Oversampling Technique). These techniques help ensure that the model learns equally from both classes, improving its performance and robustness.\n"
   ]
  },
  {
   "cell_type": "markdown",
   "metadata": {},
   "source": [
    "## Handling Class Imbalance"
   ]
  },
  {
   "cell_type": "markdown",
   "metadata": {},
   "source": [
    "### Applying Augmentation Year wise"
   ]
  },
  {
   "cell_type": "markdown",
   "metadata": {},
   "source": [
    "#### Why Applying Augmentation for Different Years?\n",
    "\n",
    "We apply data augmentation across different years because, in sampling, we are predicting the next values, not the year itself. Augmenting for different years ensures the model captures temporal variations while focusing on the patterns in the data rather than the specific year. This approach improves generalization and robustness by reducing dependence on year-specific features.\n"
   ]
  },
  {
   "cell_type": "markdown",
   "metadata": {},
   "source": [
    "### Taking Imbalanced Dataset"
   ]
  },
  {
   "cell_type": "markdown",
   "metadata": {},
   "source": [
    "### Undersampling\n",
    "\n",
    "Undersampling is a technique used to balance class distributions by reducing the number of samples in the majority class. In this case, the highest class, **rice**, will have its samples minimized to align with the smaller class sizes, ensuring balanced clustering results.\n"
   ]
  },
  {
   "cell_type": "code",
   "execution_count": 14,
   "metadata": {
    "execution": {
     "iopub.execute_input": "2024-12-18T13:10:56.615218Z",
     "iopub.status.busy": "2024-12-18T13:10:56.614848Z",
     "iopub.status.idle": "2024-12-18T13:10:56.646535Z",
     "shell.execute_reply": "2024-12-18T13:10:56.645413Z",
     "shell.execute_reply.started": "2024-12-18T13:10:56.615188Z"
    },
    "trusted": true
   },
   "outputs": [],
   "source": [
    "from imblearn.under_sampling import RandomUnderSampler\n",
    "import pandas as pd\n",
    "\n",
    "def undersample_data(data, target_column, random_state=42):\n",
    "    \"\"\"\n",
    "    Perform undersampling on the given dataset to balance class distributions.\n",
    "    \n",
    "    Parameters:\n",
    "        data (pd.DataFrame): The input dataset.\n",
    "        target_column (str): The name of the target column.\n",
    "        random_state (int): Random state for reproducibility.\n",
    "    \n",
    "    Returns:\n",
    "        pd.DataFrame: A new DataFrame with the undersampled data.\n",
    "    \"\"\"\n",
    "    # Separate features and target variable\n",
    "    X = data.drop(columns=[target_column])  # Features\n",
    "    y = data[target_column]  # Target variable\n",
    "\n",
    "    # Initialize the RandomUnderSampler\n",
    "    undersampler = RandomUnderSampler(random_state=random_state)\n",
    "\n",
    "    # Perform undersampling\n",
    "    X_undersampled, y_undersampled = undersampler.fit_resample(X, y)\n",
    "\n",
    "    # Create a new DataFrame with undersampled data\n",
    "    data_undersampled = pd.DataFrame(X_undersampled, columns=X.columns)\n",
    "\n",
    "    # Add the target column back\n",
    "    data_undersampled[target_column] = y_undersampled\n",
    "\n",
    "    # Reset the index to start from 0 again\n",
    "    data_undersampled = data_undersampled.reset_index(drop=True)\n",
    "\n",
    "    return data_undersampled\n",
    "\n",
    "# Example usage for data_2021 and data_2022\n",
    "data_2021_undersampled = undersample_data(data_2021, target_column=\"CropType_rice\")\n",
    "data_2022_undersampled = undersample_data(data_2022, target_column=\"CropType_rice\")\n",
    "data_2022_undersampled =undersample_data(data_2023, target_column=\"CropType_rice\")\n"
   ]
  },
  {
   "cell_type": "code",
   "execution_count": 15,
   "metadata": {},
   "outputs": [
    {
     "data": {
      "text/plain": [
       "CropType_rice\n",
       "0    919\n",
       "1    919\n",
       "Name: count, dtype: int64"
      ]
     },
     "execution_count": 15,
     "metadata": {},
     "output_type": "execute_result"
    }
   ],
   "source": [
    "class_balance = data_2022_undersampled[\"CropType_rice\"].value_counts()\n",
    "\n",
    "class_balance"
   ]
  },
  {
   "cell_type": "code",
   "execution_count": 16,
   "metadata": {
    "execution": {
     "iopub.execute_input": "2024-12-18T07:37:32.495715Z",
     "iopub.status.busy": "2024-12-18T07:37:32.495257Z",
     "iopub.status.idle": "2024-12-18T07:37:32.516076Z",
     "shell.execute_reply": "2024-12-18T07:37:32.514713Z",
     "shell.execute_reply.started": "2024-12-18T07:37:32.495677Z"
    },
    "trusted": true
   },
   "outputs": [],
   "source": [
    "data_undersampled = pd.concat([data_2021_undersampled, data_2022_undersampled, data_2022_undersampled], ignore_index=True)"
   ]
  },
  {
   "cell_type": "code",
   "execution_count": 17,
   "metadata": {
    "execution": {
     "iopub.execute_input": "2024-12-18T07:37:33.520636Z",
     "iopub.status.busy": "2024-12-18T07:37:33.520218Z",
     "iopub.status.idle": "2024-12-18T07:37:33.527865Z",
     "shell.execute_reply": "2024-12-18T07:37:33.526582Z",
     "shell.execute_reply.started": "2024-12-18T07:37:33.520584Z"
    },
    "trusted": true
   },
   "outputs": [
    {
     "data": {
      "text/plain": [
       "(4514, 14)"
      ]
     },
     "execution_count": 17,
     "metadata": {},
     "output_type": "execute_result"
    }
   ],
   "source": [
    "data_undersampled.shape"
   ]
  },
  {
   "cell_type": "code",
   "execution_count": 18,
   "metadata": {
    "execution": {
     "iopub.execute_input": "2024-12-18T07:37:34.588531Z",
     "iopub.status.busy": "2024-12-18T07:37:34.588145Z",
     "iopub.status.idle": "2024-12-18T07:37:34.597651Z",
     "shell.execute_reply": "2024-12-18T07:37:34.596418Z",
     "shell.execute_reply.started": "2024-12-18T07:37:34.588496Z"
    },
    "trusted": true
   },
   "outputs": [
    {
     "data": {
      "text/plain": [
       "CropType_rice\n",
       "0    2257\n",
       "1    2257\n",
       "Name: count, dtype: int64"
      ]
     },
     "execution_count": 18,
     "metadata": {},
     "output_type": "execute_result"
    }
   ],
   "source": [
    "class_balance = data_undersampled[\"CropType_rice\"].value_counts()\n",
    "    \n",
    "class_balance"
   ]
  },
  {
   "cell_type": "markdown",
   "metadata": {},
   "source": [
    "### Oversampling\n",
    "\n",
    "Oversampling is a technique used to balance class distributions by increasing the number of samples in the minority class. This is achieved by duplicating existing samples or generating synthetic samples, ensuring that smaller classes, such as cotton, are represented equally to the majority class, like rice.\n",
    "The `RandomOverSampler` balances class distributions by duplicating minority class samples, creating an oversampled dataset where the minority and majority classes have equal representation.  \n",
    "\n"
   ]
  },
  {
   "cell_type": "code",
   "execution_count": 19,
   "metadata": {
    "execution": {
     "iopub.execute_input": "2024-12-17T18:13:15.183467Z",
     "iopub.status.busy": "2024-12-17T18:13:15.182917Z",
     "iopub.status.idle": "2024-12-17T18:13:15.225803Z",
     "shell.execute_reply": "2024-12-17T18:13:15.224537Z",
     "shell.execute_reply.started": "2024-12-17T18:13:15.183425Z"
    },
    "trusted": true
   },
   "outputs": [],
   "source": [
    "from imblearn.over_sampling import RandomOverSampler\n",
    "import pandas as pd\n",
    "\n",
    "def oversample_data(data, target_column, random_state=42):\n",
    "    \"\"\"\n",
    "    Perform oversampling on the given dataset to balance class distributions.\n",
    "    \n",
    "    Parameters:\n",
    "        data (pd.DataFrame): The input dataset.\n",
    "        target_column (str): The name of the target column.\n",
    "        random_state (int): Random state for reproducibility.\n",
    "    \n",
    "    Returns:\n",
    "        pd.DataFrame: A new DataFrame with the oversampled data.\n",
    "    \"\"\"\n",
    "    # Separate features and target variable\n",
    "    X = data.drop(columns=[target_column])  # Features\n",
    "    y = data[target_column]  # Target variable\n",
    "\n",
    "    # Initialize the RandomOverSampler\n",
    "    oversampler = RandomOverSampler(random_state=random_state)\n",
    "\n",
    "    # Perform oversampling\n",
    "    X_oversampled, y_oversampled = oversampler.fit_resample(X, y)\n",
    "\n",
    "    # Create a new DataFrame with oversampled data\n",
    "    data_oversampled = pd.DataFrame(X_oversampled, columns=X.columns)\n",
    "\n",
    "    # Add the target column back\n",
    "    data_oversampled[target_column] = y_oversampled\n",
    "\n",
    "    # Reset the index to start from 0 again\n",
    "    data_oversampled = data_oversampled.reset_index(drop=True)\n",
    "\n",
    "    return data_oversampled\n",
    "\n",
    "# Example usage for data_2021 and data_2022\n",
    "data_2021_oversampled = oversample_data(data_2021, target_column=\"CropType_rice\")\n",
    "data_2022_oversampled = oversample_data(data_2022, target_column=\"CropType_rice\")\n",
    "data_2023_oversampled = oversample_data(data_2023, target_column=\"CropType_rice\")\n"
   ]
  },
  {
   "cell_type": "code",
   "execution_count": 20,
   "metadata": {},
   "outputs": [
    {
     "data": {
      "text/plain": [
       "CropType_rice\n",
       "0    2883\n",
       "1    2883\n",
       "Name: count, dtype: int64"
      ]
     },
     "execution_count": 20,
     "metadata": {},
     "output_type": "execute_result"
    }
   ],
   "source": [
    "class_balance = data_2021_oversampled[\"CropType_rice\"].value_counts()\n",
    "    \n",
    "class_balance"
   ]
  },
  {
   "cell_type": "code",
   "execution_count": 21,
   "metadata": {},
   "outputs": [],
   "source": [
    "data_oversampled = pd.concat([data_2021_oversampled, data_2022_oversampled, data_2023_oversampled], ignore_index=True)"
   ]
  },
  {
   "cell_type": "code",
   "execution_count": 22,
   "metadata": {
    "execution": {
     "iopub.execute_input": "2024-12-17T18:13:15.708319Z",
     "iopub.status.busy": "2024-12-17T18:13:15.707792Z",
     "iopub.status.idle": "2024-12-17T18:13:15.727524Z",
     "shell.execute_reply": "2024-12-17T18:13:15.726332Z",
     "shell.execute_reply.started": "2024-12-17T18:13:15.708273Z"
    },
    "trusted": true
   },
   "outputs": [
    {
     "data": {
      "text/html": [
       "<div>\n",
       "<style scoped>\n",
       "    .dataframe tbody tr th:only-of-type {\n",
       "        vertical-align: middle;\n",
       "    }\n",
       "\n",
       "    .dataframe tbody tr th {\n",
       "        vertical-align: top;\n",
       "    }\n",
       "\n",
       "    .dataframe thead th {\n",
       "        text-align: right;\n",
       "    }\n",
       "</style>\n",
       "<table border=\"1\" class=\"dataframe\">\n",
       "  <thead>\n",
       "    <tr style=\"text-align: right;\">\n",
       "      <th></th>\n",
       "      <th>NDVI01</th>\n",
       "      <th>NDVI02</th>\n",
       "      <th>NDVI03</th>\n",
       "      <th>NDVI04</th>\n",
       "      <th>NDVI05</th>\n",
       "      <th>NDVI06</th>\n",
       "      <th>NDVI07</th>\n",
       "      <th>NDVI08</th>\n",
       "      <th>NDVI09</th>\n",
       "      <th>NDVI10</th>\n",
       "      <th>NDVI11</th>\n",
       "      <th>NDVI12</th>\n",
       "      <th>Year</th>\n",
       "      <th>CropType_rice</th>\n",
       "    </tr>\n",
       "  </thead>\n",
       "  <tbody>\n",
       "    <tr>\n",
       "      <th>0</th>\n",
       "      <td>0.153184</td>\n",
       "      <td>0.222615</td>\n",
       "      <td>0.498528</td>\n",
       "      <td>0.611280</td>\n",
       "      <td>0.285032</td>\n",
       "      <td>0.112775</td>\n",
       "      <td>0.529626</td>\n",
       "      <td>0.546617</td>\n",
       "      <td>0.604374</td>\n",
       "      <td>0.571359</td>\n",
       "      <td>0.620985</td>\n",
       "      <td>0.496628</td>\n",
       "      <td>2021</td>\n",
       "      <td>0</td>\n",
       "    </tr>\n",
       "    <tr>\n",
       "      <th>1</th>\n",
       "      <td>0.137897</td>\n",
       "      <td>0.106036</td>\n",
       "      <td>0.169626</td>\n",
       "      <td>0.330396</td>\n",
       "      <td>0.594655</td>\n",
       "      <td>0.227967</td>\n",
       "      <td>0.578199</td>\n",
       "      <td>0.661604</td>\n",
       "      <td>0.783454</td>\n",
       "      <td>0.777313</td>\n",
       "      <td>0.729177</td>\n",
       "      <td>0.636792</td>\n",
       "      <td>2021</td>\n",
       "      <td>0</td>\n",
       "    </tr>\n",
       "    <tr>\n",
       "      <th>2</th>\n",
       "      <td>0.122481</td>\n",
       "      <td>0.088123</td>\n",
       "      <td>0.182121</td>\n",
       "      <td>0.376037</td>\n",
       "      <td>0.431042</td>\n",
       "      <td>0.350422</td>\n",
       "      <td>0.630027</td>\n",
       "      <td>0.724557</td>\n",
       "      <td>0.844643</td>\n",
       "      <td>0.673307</td>\n",
       "      <td>0.736385</td>\n",
       "      <td>0.635118</td>\n",
       "      <td>2021</td>\n",
       "      <td>0</td>\n",
       "    </tr>\n",
       "    <tr>\n",
       "      <th>3</th>\n",
       "      <td>0.085279</td>\n",
       "      <td>0.091887</td>\n",
       "      <td>0.140729</td>\n",
       "      <td>0.243528</td>\n",
       "      <td>0.224835</td>\n",
       "      <td>0.046875</td>\n",
       "      <td>0.579180</td>\n",
       "      <td>0.666857</td>\n",
       "      <td>0.611009</td>\n",
       "      <td>0.625423</td>\n",
       "      <td>0.612167</td>\n",
       "      <td>0.208681</td>\n",
       "      <td>2021</td>\n",
       "      <td>0</td>\n",
       "    </tr>\n",
       "    <tr>\n",
       "      <th>4</th>\n",
       "      <td>0.091678</td>\n",
       "      <td>0.094313</td>\n",
       "      <td>0.247900</td>\n",
       "      <td>0.367800</td>\n",
       "      <td>0.546883</td>\n",
       "      <td>0.476697</td>\n",
       "      <td>0.699308</td>\n",
       "      <td>0.768818</td>\n",
       "      <td>0.753445</td>\n",
       "      <td>0.711491</td>\n",
       "      <td>0.707040</td>\n",
       "      <td>0.647931</td>\n",
       "      <td>2021</td>\n",
       "      <td>0</td>\n",
       "    </tr>\n",
       "  </tbody>\n",
       "</table>\n",
       "</div>"
      ],
      "text/plain": [
       "     NDVI01    NDVI02    NDVI03    NDVI04    NDVI05    NDVI06    NDVI07  \\\n",
       "0  0.153184  0.222615  0.498528  0.611280  0.285032  0.112775  0.529626   \n",
       "1  0.137897  0.106036  0.169626  0.330396  0.594655  0.227967  0.578199   \n",
       "2  0.122481  0.088123  0.182121  0.376037  0.431042  0.350422  0.630027   \n",
       "3  0.085279  0.091887  0.140729  0.243528  0.224835  0.046875  0.579180   \n",
       "4  0.091678  0.094313  0.247900  0.367800  0.546883  0.476697  0.699308   \n",
       "\n",
       "     NDVI08    NDVI09    NDVI10    NDVI11    NDVI12  Year  CropType_rice  \n",
       "0  0.546617  0.604374  0.571359  0.620985  0.496628  2021              0  \n",
       "1  0.661604  0.783454  0.777313  0.729177  0.636792  2021              0  \n",
       "2  0.724557  0.844643  0.673307  0.736385  0.635118  2021              0  \n",
       "3  0.666857  0.611009  0.625423  0.612167  0.208681  2021              0  \n",
       "4  0.768818  0.753445  0.711491  0.707040  0.647931  2021              0  "
      ]
     },
     "execution_count": 22,
     "metadata": {},
     "output_type": "execute_result"
    }
   ],
   "source": [
    "data_oversampled.head()"
   ]
  },
  {
   "cell_type": "code",
   "execution_count": 23,
   "metadata": {
    "execution": {
     "iopub.execute_input": "2024-12-17T18:13:16.049856Z",
     "iopub.status.busy": "2024-12-17T18:13:16.049409Z",
     "iopub.status.idle": "2024-12-17T18:13:16.057114Z",
     "shell.execute_reply": "2024-12-17T18:13:16.055856Z",
     "shell.execute_reply.started": "2024-12-17T18:13:16.049820Z"
    },
    "trusted": true
   },
   "outputs": [
    {
     "data": {
      "text/plain": [
       "(54142, 14)"
      ]
     },
     "execution_count": 23,
     "metadata": {},
     "output_type": "execute_result"
    }
   ],
   "source": [
    "data_oversampled.shape"
   ]
  },
  {
   "cell_type": "code",
   "execution_count": 24,
   "metadata": {
    "execution": {
     "iopub.execute_input": "2024-12-17T18:13:16.685447Z",
     "iopub.status.busy": "2024-12-17T18:13:16.685051Z",
     "iopub.status.idle": "2024-12-17T18:13:16.694726Z",
     "shell.execute_reply": "2024-12-17T18:13:16.693474Z",
     "shell.execute_reply.started": "2024-12-17T18:13:16.685411Z"
    },
    "trusted": true
   },
   "outputs": [
    {
     "data": {
      "text/plain": [
       "CropType_rice\n",
       "0    27071\n",
       "1    27071\n",
       "Name: count, dtype: int64"
      ]
     },
     "execution_count": 24,
     "metadata": {},
     "output_type": "execute_result"
    }
   ],
   "source": [
    "class_balance = data_oversampled[\"CropType_rice\"].value_counts()\n",
    "\n",
    "class_balance"
   ]
  },
  {
   "cell_type": "markdown",
   "metadata": {},
   "source": [
    "### SMOTE\n",
    "\n",
    "SMOTE (Synthetic Minority Oversampling Technique) generates synthetic samples for the minority class by interpolating between existing samples, effectively balancing class distributions without duplicating data.  \n"
   ]
  },
  {
   "cell_type": "code",
   "execution_count": 25,
   "metadata": {
    "execution": {
     "iopub.execute_input": "2024-12-18T13:00:53.656242Z",
     "iopub.status.busy": "2024-12-18T13:00:53.655152Z",
     "iopub.status.idle": "2024-12-18T13:00:53.669681Z",
     "shell.execute_reply": "2024-12-18T13:00:53.668248Z",
     "shell.execute_reply.started": "2024-12-18T13:00:53.656187Z"
    },
    "trusted": true
   },
   "outputs": [],
   "source": [
    "from imblearn.over_sampling import SMOTE\n",
    "import pandas as pd\n",
    "\n",
    "def apply_smote(data, target_column, random_state=42):\n",
    "    \"\"\"\n",
    "    Apply SMOTE to balance the class distribution in the dataset without affecting year or categorical columns.\n",
    "    \n",
    "    Parameters:\n",
    "        data (pd.DataFrame): The input dataset.\n",
    "        target_column (str): The name of the target column.\n",
    "        random_state (int): Random state for reproducibility.\n",
    "    \n",
    "    Returns:\n",
    "        pd.DataFrame: A new DataFrame with oversampled data using SMOTE.\n",
    "    \"\"\"\n",
    "    # Separate features and target variable\n",
    "    X = data.drop(columns=[target_column])  # Features\n",
    "    y = data[target_column]  # Target variable\n",
    "\n",
    "    # Initialize SMOTE\n",
    "    smote = SMOTE(random_state=random_state)\n",
    "\n",
    "    # Apply SMOTE to oversample the minority class\n",
    "    X_smote, y_smote = smote.fit_resample(X, y)\n",
    "\n",
    "    # Create a new DataFrame with the SMOTE-applied data\n",
    "    smote_data = pd.DataFrame(X_smote, columns=X.columns)\n",
    "\n",
    "    # Add the target column back\n",
    "    smote_data[target_column] = y_smote\n",
    "\n",
    "    # Reset the index to start from 0 again\n",
    "    smote_data = smote_data.reset_index(drop=True)\n",
    "\n",
    "    return smote_data\n",
    "\n",
    "# Example usage for data_2021 and data_2022\n",
    "data_2021_smote = apply_smote(data_2021, target_column=\"CropType_rice\")\n",
    "data_2022_smote = apply_smote(data_2022, target_column=\"CropType_rice\")\n",
    "data_2023_smote = apply_smote(data_2023, target_column=\"CropType_rice\")"
   ]
  },
  {
   "cell_type": "code",
   "execution_count": 26,
   "metadata": {
    "execution": {
     "iopub.execute_input": "2024-12-17T18:58:55.804122Z",
     "iopub.status.busy": "2024-12-17T18:58:55.803729Z",
     "iopub.status.idle": "2024-12-17T18:58:55.813277Z",
     "shell.execute_reply": "2024-12-17T18:58:55.812143Z",
     "shell.execute_reply.started": "2024-12-17T18:58:55.804087Z"
    },
    "trusted": true
   },
   "outputs": [
    {
     "data": {
      "text/plain": [
       "CropType_rice\n",
       "0    2883\n",
       "1    2883\n",
       "Name: count, dtype: int64"
      ]
     },
     "execution_count": 26,
     "metadata": {},
     "output_type": "execute_result"
    }
   ],
   "source": [
    "class_balance = data_2021_smote[\"CropType_rice\"].value_counts()\n",
    "\n",
    "class_balance"
   ]
  },
  {
   "cell_type": "code",
   "execution_count": 27,
   "metadata": {
    "execution": {
     "iopub.execute_input": "2024-12-17T18:58:55.815110Z",
     "iopub.status.busy": "2024-12-17T18:58:55.814722Z",
     "iopub.status.idle": "2024-12-17T18:58:55.830525Z",
     "shell.execute_reply": "2024-12-17T18:58:55.829273Z",
     "shell.execute_reply.started": "2024-12-17T18:58:55.815077Z"
    },
    "trusted": true
   },
   "outputs": [
    {
     "data": {
      "text/plain": [
       "CropType_rice\n",
       "0    12411\n",
       "1    12411\n",
       "Name: count, dtype: int64"
      ]
     },
     "execution_count": 27,
     "metadata": {},
     "output_type": "execute_result"
    }
   ],
   "source": [
    "class_balance = data_2022_smote[\"CropType_rice\"].value_counts()\n",
    "\n",
    "class_balance"
   ]
  },
  {
   "cell_type": "code",
   "execution_count": 28,
   "metadata": {
    "execution": {
     "iopub.execute_input": "2024-12-17T18:58:55.832665Z",
     "iopub.status.busy": "2024-12-17T18:58:55.832287Z",
     "iopub.status.idle": "2024-12-17T18:58:55.851772Z",
     "shell.execute_reply": "2024-12-17T18:58:55.850679Z",
     "shell.execute_reply.started": "2024-12-17T18:58:55.832632Z"
    },
    "trusted": true
   },
   "outputs": [
    {
     "data": {
      "text/plain": [
       "CropType_rice\n",
       "0    11777\n",
       "1    11777\n",
       "Name: count, dtype: int64"
      ]
     },
     "execution_count": 28,
     "metadata": {},
     "output_type": "execute_result"
    }
   ],
   "source": [
    "class_balance = data_2023_smote[\"CropType_rice\"].value_counts()\n",
    "\n",
    "class_balance"
   ]
  },
  {
   "cell_type": "code",
   "execution_count": 29,
   "metadata": {
    "execution": {
     "iopub.execute_input": "2024-12-17T18:58:55.963486Z",
     "iopub.status.busy": "2024-12-17T18:58:55.963096Z",
     "iopub.status.idle": "2024-12-17T18:58:55.971522Z",
     "shell.execute_reply": "2024-12-17T18:58:55.970500Z",
     "shell.execute_reply.started": "2024-12-17T18:58:55.963452Z"
    },
    "trusted": true
   },
   "outputs": [],
   "source": [
    "data_smote = pd.concat([data_2021_smote, data_2022_smote, data_2023_smote], ignore_index=True)"
   ]
  },
  {
   "cell_type": "code",
   "execution_count": 30,
   "metadata": {
    "execution": {
     "iopub.execute_input": "2024-12-17T18:58:57.020079Z",
     "iopub.status.busy": "2024-12-17T18:58:57.019577Z",
     "iopub.status.idle": "2024-12-17T18:58:57.043653Z",
     "shell.execute_reply": "2024-12-17T18:58:57.042048Z",
     "shell.execute_reply.started": "2024-12-17T18:58:57.020034Z"
    },
    "trusted": true
   },
   "outputs": [
    {
     "data": {
      "text/html": [
       "<div>\n",
       "<style scoped>\n",
       "    .dataframe tbody tr th:only-of-type {\n",
       "        vertical-align: middle;\n",
       "    }\n",
       "\n",
       "    .dataframe tbody tr th {\n",
       "        vertical-align: top;\n",
       "    }\n",
       "\n",
       "    .dataframe thead th {\n",
       "        text-align: right;\n",
       "    }\n",
       "</style>\n",
       "<table border=\"1\" class=\"dataframe\">\n",
       "  <thead>\n",
       "    <tr style=\"text-align: right;\">\n",
       "      <th></th>\n",
       "      <th>NDVI01</th>\n",
       "      <th>NDVI02</th>\n",
       "      <th>NDVI03</th>\n",
       "      <th>NDVI04</th>\n",
       "      <th>NDVI05</th>\n",
       "      <th>NDVI06</th>\n",
       "      <th>NDVI07</th>\n",
       "      <th>NDVI08</th>\n",
       "      <th>NDVI09</th>\n",
       "      <th>NDVI10</th>\n",
       "      <th>NDVI11</th>\n",
       "      <th>NDVI12</th>\n",
       "      <th>Year</th>\n",
       "      <th>CropType_rice</th>\n",
       "    </tr>\n",
       "  </thead>\n",
       "  <tbody>\n",
       "    <tr>\n",
       "      <th>0</th>\n",
       "      <td>0.153184</td>\n",
       "      <td>0.222615</td>\n",
       "      <td>0.498528</td>\n",
       "      <td>0.611280</td>\n",
       "      <td>0.285032</td>\n",
       "      <td>0.112775</td>\n",
       "      <td>0.529626</td>\n",
       "      <td>0.546617</td>\n",
       "      <td>0.604374</td>\n",
       "      <td>0.571359</td>\n",
       "      <td>0.620985</td>\n",
       "      <td>0.496628</td>\n",
       "      <td>2021</td>\n",
       "      <td>0</td>\n",
       "    </tr>\n",
       "    <tr>\n",
       "      <th>1</th>\n",
       "      <td>0.137897</td>\n",
       "      <td>0.106036</td>\n",
       "      <td>0.169626</td>\n",
       "      <td>0.330396</td>\n",
       "      <td>0.594655</td>\n",
       "      <td>0.227967</td>\n",
       "      <td>0.578199</td>\n",
       "      <td>0.661604</td>\n",
       "      <td>0.783454</td>\n",
       "      <td>0.777313</td>\n",
       "      <td>0.729177</td>\n",
       "      <td>0.636792</td>\n",
       "      <td>2021</td>\n",
       "      <td>0</td>\n",
       "    </tr>\n",
       "    <tr>\n",
       "      <th>2</th>\n",
       "      <td>0.122481</td>\n",
       "      <td>0.088123</td>\n",
       "      <td>0.182121</td>\n",
       "      <td>0.376037</td>\n",
       "      <td>0.431042</td>\n",
       "      <td>0.350422</td>\n",
       "      <td>0.630027</td>\n",
       "      <td>0.724557</td>\n",
       "      <td>0.844643</td>\n",
       "      <td>0.673307</td>\n",
       "      <td>0.736385</td>\n",
       "      <td>0.635118</td>\n",
       "      <td>2021</td>\n",
       "      <td>0</td>\n",
       "    </tr>\n",
       "    <tr>\n",
       "      <th>3</th>\n",
       "      <td>0.085279</td>\n",
       "      <td>0.091887</td>\n",
       "      <td>0.140729</td>\n",
       "      <td>0.243528</td>\n",
       "      <td>0.224835</td>\n",
       "      <td>0.046875</td>\n",
       "      <td>0.579180</td>\n",
       "      <td>0.666857</td>\n",
       "      <td>0.611009</td>\n",
       "      <td>0.625423</td>\n",
       "      <td>0.612167</td>\n",
       "      <td>0.208681</td>\n",
       "      <td>2021</td>\n",
       "      <td>0</td>\n",
       "    </tr>\n",
       "    <tr>\n",
       "      <th>4</th>\n",
       "      <td>0.091678</td>\n",
       "      <td>0.094313</td>\n",
       "      <td>0.247900</td>\n",
       "      <td>0.367800</td>\n",
       "      <td>0.546883</td>\n",
       "      <td>0.476697</td>\n",
       "      <td>0.699308</td>\n",
       "      <td>0.768818</td>\n",
       "      <td>0.753445</td>\n",
       "      <td>0.711491</td>\n",
       "      <td>0.707040</td>\n",
       "      <td>0.647931</td>\n",
       "      <td>2021</td>\n",
       "      <td>0</td>\n",
       "    </tr>\n",
       "  </tbody>\n",
       "</table>\n",
       "</div>"
      ],
      "text/plain": [
       "     NDVI01    NDVI02    NDVI03    NDVI04    NDVI05    NDVI06    NDVI07  \\\n",
       "0  0.153184  0.222615  0.498528  0.611280  0.285032  0.112775  0.529626   \n",
       "1  0.137897  0.106036  0.169626  0.330396  0.594655  0.227967  0.578199   \n",
       "2  0.122481  0.088123  0.182121  0.376037  0.431042  0.350422  0.630027   \n",
       "3  0.085279  0.091887  0.140729  0.243528  0.224835  0.046875  0.579180   \n",
       "4  0.091678  0.094313  0.247900  0.367800  0.546883  0.476697  0.699308   \n",
       "\n",
       "     NDVI08    NDVI09    NDVI10    NDVI11    NDVI12  Year  CropType_rice  \n",
       "0  0.546617  0.604374  0.571359  0.620985  0.496628  2021              0  \n",
       "1  0.661604  0.783454  0.777313  0.729177  0.636792  2021              0  \n",
       "2  0.724557  0.844643  0.673307  0.736385  0.635118  2021              0  \n",
       "3  0.666857  0.611009  0.625423  0.612167  0.208681  2021              0  \n",
       "4  0.768818  0.753445  0.711491  0.707040  0.647931  2021              0  "
      ]
     },
     "execution_count": 30,
     "metadata": {},
     "output_type": "execute_result"
    }
   ],
   "source": [
    "data_smote.head()"
   ]
  },
  {
   "cell_type": "code",
   "execution_count": 31,
   "metadata": {
    "execution": {
     "iopub.execute_input": "2024-12-17T18:58:58.451561Z",
     "iopub.status.busy": "2024-12-17T18:58:58.451083Z",
     "iopub.status.idle": "2024-12-17T18:58:58.459871Z",
     "shell.execute_reply": "2024-12-17T18:58:58.458404Z",
     "shell.execute_reply.started": "2024-12-17T18:58:58.451523Z"
    },
    "trusted": true
   },
   "outputs": [
    {
     "data": {
      "text/plain": [
       "(54142, 14)"
      ]
     },
     "execution_count": 31,
     "metadata": {},
     "output_type": "execute_result"
    }
   ],
   "source": [
    "data_smote.shape"
   ]
  },
  {
   "cell_type": "code",
   "execution_count": 32,
   "metadata": {
    "execution": {
     "iopub.execute_input": "2024-12-17T18:58:59.638993Z",
     "iopub.status.busy": "2024-12-17T18:58:59.638527Z",
     "iopub.status.idle": "2024-12-17T18:58:59.649200Z",
     "shell.execute_reply": "2024-12-17T18:58:59.647938Z",
     "shell.execute_reply.started": "2024-12-17T18:58:59.638921Z"
    },
    "trusted": true
   },
   "outputs": [
    {
     "data": {
      "text/plain": [
       "CropType_rice\n",
       "0    27071\n",
       "1    27071\n",
       "Name: count, dtype: int64"
      ]
     },
     "execution_count": 32,
     "metadata": {},
     "output_type": "execute_result"
    }
   ],
   "source": [
    "class_balance = data_smote[\"CropType_rice\"].value_counts()\n",
    "\n",
    "class_balance"
   ]
  },
  {
   "cell_type": "markdown",
   "metadata": {},
   "source": [
    "### Explanation\n",
    "\n",
    "In this analysis, we utilized two resampling techniques: **Oversampling** and **Undersampling**. Among the oversampling methods, we selected **SMOTE** (Synthetic Minority Oversampling Technique) as it generates new synthetic samples rather than simply duplicating existing ones, which occurs in Random Oversampling.\n",
    "\n",
    "All subsequent operations and analysis are performed on the following datasets:\n",
    "\n",
    "1. **SMOTE Dataset**: Balanced through synthetic sample generation.  \n",
    "2. **Undersampled Dataset**: Balanced by reducing the number of majority class samples.\n"
   ]
  },
  {
   "cell_type": "markdown",
   "metadata": {},
   "source": [
    "### Outliers Removal\n",
    "\n",
    "Outliers will be removed using the previously implemented function by applying the Z-score method. Any data points with a Z-score greater than the threshold of 3 will be considered outliers and removed from the dataset to ensure better model performance and data integrity.\n"
   ]
  },
  {
   "cell_type": "code",
   "execution_count": 33,
   "metadata": {
    "execution": {
     "iopub.execute_input": "2024-12-19T13:43:09.421552Z",
     "iopub.status.busy": "2024-12-19T13:43:09.418515Z",
     "iopub.status.idle": "2024-12-19T13:43:09.432763Z",
     "shell.execute_reply": "2024-12-19T13:43:09.431397Z",
     "shell.execute_reply.started": "2024-12-19T13:43:09.421498Z"
    },
    "trusted": true
   },
   "outputs": [],
   "source": [
    "import pandas as pd\n",
    "import numpy as np\n",
    "\n",
    "\n",
    "\n",
    "def remove_outliers_zscore(df, threshold=3):\n",
    "    \"\"\"\n",
    "    Remove outliers from a DataFrame using the Z-Score method.\n",
    "    Rows with Z-Score > threshold (default=3) are considered outliers.\n",
    "    \"\"\"\n",
    "    # Calculate Z-Score for each column\n",
    "    z_scores = (df - df.mean()) / df.std()\n",
    "    \n",
    "    # Keep rows where all Z-Scores are within the threshold\n",
    "    cleaned_df = df[(np.abs(z_scores) <= threshold).all(axis=1)]\n",
    "    return cleaned_df\n",
    "\n"
   ]
  },
  {
   "cell_type": "code",
   "execution_count": 35,
   "metadata": {
    "execution": {
     "iopub.execute_input": "2024-12-18T13:17:59.658752Z",
     "iopub.status.busy": "2024-12-18T13:17:59.658198Z",
     "iopub.status.idle": "2024-12-18T13:17:59.696196Z",
     "shell.execute_reply": "2024-12-18T13:17:59.694815Z",
     "shell.execute_reply.started": "2024-12-18T13:17:59.658710Z"
    },
    "trusted": true
   },
   "outputs": [
    {
     "name": "stdout",
     "output_type": "stream",
     "text": [
      "Before removing outliers (SMOTE): (54142, 14)\n",
      "After removing outliers (SMOTE): (51409, 14)\n",
      "Before removing outliers (Undersampled): (4514, 14)\n",
      "After removing outliers (Undersampled): (4327, 14)\n"
     ]
    }
   ],
   "source": [
    "\n",
    "\n",
    "# Remove outliers for data_smote\n",
    "print(f\"Before removing outliers (SMOTE): {data_smote.shape}\")\n",
    "data_smote_cleaned = remove_outliers_zscore(data_smote, threshold=3)\n",
    "print(f\"After removing outliers (SMOTE): {data_smote_cleaned.shape}\")\n",
    "\n",
    "# Remove outliers for data_undersampled\n",
    "print(f\"Before removing outliers (Undersampled): {data_undersampled.shape}\")\n",
    "data_undersampled_cleaned = remove_outliers_zscore(data_undersampled, threshold=3)\n",
    "print(f\"After removing outliers (Undersampled): {data_undersampled_cleaned.shape}\")\n"
   ]
  },
  {
   "cell_type": "markdown",
   "metadata": {},
   "source": [
    "###  Scaling Features\n"
   ]
  },
  {
   "cell_type": "code",
   "execution_count": 36,
   "metadata": {
    "trusted": true
   },
   "outputs": [],
   "source": [
    "from sklearn.preprocessing import StandardScaler, MinMaxScaler, RobustScaler, QuantileTransformer\n",
    "\n",
    "def apply_scaling(df, exclude_columns=[\"CropType_rice\", \"Year\"], scaler_type=\"standard\"):\n",
    "    \"\"\"\n",
    "    Function to apply different scaling techniques on numerical columns in the dataframe.\n",
    "    \n",
    "    Args:\n",
    "    - df: DataFrame with features to be scaled.\n",
    "    - exclude_columns: List of columns to exclude from scaling (e.g., target column or categorical columns).\n",
    "    - scaler_type: Type of scaling to apply (\"standard\", \"minmax\", \"robust\", \"quantile\").\n",
    "    \n",
    "    Returns:\n",
    "    - Scaled DataFrame with the same columns, excluding the ones from exclude_columns.\n",
    "    \"\"\"\n",
    "    # Identify columns to scale (exclude target and categorical columns)\n",
    "    columns_to_scale = [col for col in df.columns if col not in exclude_columns]\n",
    "    \n",
    "    # Initialize the appropriate scaler\n",
    "    if scaler_type == \"standard\":\n",
    "        scaler = StandardScaler()\n",
    "    elif scaler_type == \"minmax\":\n",
    "        scaler = MinMaxScaler()\n",
    "    elif scaler_type == \"robust\":\n",
    "        scaler = RobustScaler()\n",
    "    elif scaler_type == \"quantile\":\n",
    "        scaler = QuantileTransformer()\n",
    "    else:\n",
    "        raise ValueError(\"Invalid scaler type. Choose from ['standard', 'minmax', 'robust', 'quantile'].\")\n",
    "    \n",
    "    # Apply the scaler\n",
    "    df_scaled = df.copy()\n",
    "    df_scaled[columns_to_scale] = scaler.fit_transform(df[columns_to_scale])\n",
    "    df_scaled[\"Year\"] = df[\"Year\"]  # Retain Year column\n",
    "    df_scaled[\"CropType_rice\"] = df[\"CropType_rice\"]  # Retain target column\n",
    "    \n",
    "    return df_scaled\n"
   ]
  },
  {
   "cell_type": "code",
   "execution_count": 39,
   "metadata": {
    "execution": {
     "iopub.execute_input": "2024-12-18T13:19:00.305799Z",
     "iopub.status.busy": "2024-12-18T13:19:00.305380Z",
     "iopub.status.idle": "2024-12-18T13:19:00.351437Z",
     "shell.execute_reply": "2024-12-18T13:19:00.350022Z",
     "shell.execute_reply.started": "2024-12-18T13:19:00.305763Z"
    },
    "trusted": true
   },
   "outputs": [
    {
     "name": "stdout",
     "output_type": "stream",
     "text": [
      "Scaled SMOTE cleaned data\n",
      "Scaled Undersampled cleaned data\n"
     ]
    }
   ],
   "source": [
    "\n",
    "\n",
    "# Scale the cleaned SMOTE data\n",
    "\n",
    "data_smote_scaled = apply_scaling(data_smote_cleaned, scaler_type=\"standard\")\n",
    "print(\"Scaled SMOTE cleaned data\")\n",
    "\n",
    "# Scale the cleaned Undersampled data\n",
    "data_undersampled_scaled = apply_scaling(data_undersampled_cleaned, scaler_type=\"standard\")\n",
    "print(\"Scaled Undersampled cleaned data\")"
   ]
  },
  {
   "cell_type": "markdown",
   "metadata": {},
   "source": [
    "No need of year in this case so drop year"
   ]
  },
  {
   "cell_type": "code",
   "execution_count": 40,
   "metadata": {
    "execution": {
     "iopub.execute_input": "2024-12-18T13:19:16.459668Z",
     "iopub.status.busy": "2024-12-18T13:19:16.459264Z",
     "iopub.status.idle": "2024-12-18T13:19:16.472067Z",
     "shell.execute_reply": "2024-12-18T13:19:16.470563Z",
     "shell.execute_reply.started": "2024-12-18T13:19:16.459635Z"
    },
    "trusted": true
   },
   "outputs": [],
   "source": [
    "# Drop the \"Year\" column from the scaled SMOTE data\n",
    "data_smote_scaled.drop(\"Year\", axis=1, inplace=True)\n",
    "\n",
    "\n",
    "\n",
    "# Drop the \"Year\" column from the scaled Undersampled data\n",
    "data_undersampled_scaled.drop(\"Year\", axis=1, inplace=True)\n"
   ]
  },
  {
   "cell_type": "markdown",
   "metadata": {},
   "source": [
    "##### Printing SMOTE Scaled data "
   ]
  },
  {
   "cell_type": "code",
   "execution_count": 42,
   "metadata": {
    "execution": {
     "iopub.execute_input": "2024-12-18T13:19:20.100166Z",
     "iopub.status.busy": "2024-12-18T13:19:20.099690Z",
     "iopub.status.idle": "2024-12-18T13:19:20.122141Z",
     "shell.execute_reply": "2024-12-18T13:19:20.120599Z",
     "shell.execute_reply.started": "2024-12-18T13:19:20.100130Z"
    },
    "trusted": true
   },
   "outputs": [
    {
     "data": {
      "text/html": [
       "<div>\n",
       "<style scoped>\n",
       "    .dataframe tbody tr th:only-of-type {\n",
       "        vertical-align: middle;\n",
       "    }\n",
       "\n",
       "    .dataframe tbody tr th {\n",
       "        vertical-align: top;\n",
       "    }\n",
       "\n",
       "    .dataframe thead th {\n",
       "        text-align: right;\n",
       "    }\n",
       "</style>\n",
       "<table border=\"1\" class=\"dataframe\">\n",
       "  <thead>\n",
       "    <tr style=\"text-align: right;\">\n",
       "      <th></th>\n",
       "      <th>NDVI01</th>\n",
       "      <th>NDVI02</th>\n",
       "      <th>NDVI03</th>\n",
       "      <th>NDVI04</th>\n",
       "      <th>NDVI05</th>\n",
       "      <th>NDVI06</th>\n",
       "      <th>NDVI07</th>\n",
       "      <th>NDVI08</th>\n",
       "      <th>NDVI09</th>\n",
       "      <th>NDVI10</th>\n",
       "      <th>NDVI11</th>\n",
       "      <th>NDVI12</th>\n",
       "      <th>CropType_rice</th>\n",
       "    </tr>\n",
       "  </thead>\n",
       "  <tbody>\n",
       "    <tr>\n",
       "      <th>0</th>\n",
       "      <td>-0.073578</td>\n",
       "      <td>0.103471</td>\n",
       "      <td>0.647052</td>\n",
       "      <td>0.519647</td>\n",
       "      <td>-1.114424</td>\n",
       "      <td>-0.664184</td>\n",
       "      <td>-0.340209</td>\n",
       "      <td>-0.280072</td>\n",
       "      <td>-0.386317</td>\n",
       "      <td>-0.555379</td>\n",
       "      <td>-0.048871</td>\n",
       "      <td>-0.297233</td>\n",
       "      <td>0</td>\n",
       "    </tr>\n",
       "    <tr>\n",
       "      <th>1</th>\n",
       "      <td>-0.220395</td>\n",
       "      <td>-0.649858</td>\n",
       "      <td>-0.730808</td>\n",
       "      <td>-0.520483</td>\n",
       "      <td>-0.027779</td>\n",
       "      <td>-0.251651</td>\n",
       "      <td>-0.138131</td>\n",
       "      <td>0.284710</td>\n",
       "      <td>0.512542</td>\n",
       "      <td>0.463263</td>\n",
       "      <td>0.466033</td>\n",
       "      <td>0.309352</td>\n",
       "      <td>0</td>\n",
       "    </tr>\n",
       "    <tr>\n",
       "      <th>2</th>\n",
       "      <td>-0.368450</td>\n",
       "      <td>-0.765613</td>\n",
       "      <td>-0.678464</td>\n",
       "      <td>-0.351474</td>\n",
       "      <td>-0.601992</td>\n",
       "      <td>0.186889</td>\n",
       "      <td>0.077488</td>\n",
       "      <td>0.593916</td>\n",
       "      <td>0.819673</td>\n",
       "      <td>-0.051147</td>\n",
       "      <td>0.500336</td>\n",
       "      <td>0.302107</td>\n",
       "      <td>0</td>\n",
       "    </tr>\n",
       "    <tr>\n",
       "      <th>3</th>\n",
       "      <td>-0.725726</td>\n",
       "      <td>-0.741287</td>\n",
       "      <td>-0.851865</td>\n",
       "      <td>-0.842165</td>\n",
       "      <td>-1.325690</td>\n",
       "      <td>-0.900191</td>\n",
       "      <td>-0.134050</td>\n",
       "      <td>0.310510</td>\n",
       "      <td>-0.353011</td>\n",
       "      <td>-0.287980</td>\n",
       "      <td>-0.090836</td>\n",
       "      <td>-1.543370</td>\n",
       "      <td>0</td>\n",
       "    </tr>\n",
       "    <tr>\n",
       "      <th>4</th>\n",
       "      <td>-0.664269</td>\n",
       "      <td>-0.725608</td>\n",
       "      <td>-0.402894</td>\n",
       "      <td>-0.381974</td>\n",
       "      <td>-0.195438</td>\n",
       "      <td>0.639115</td>\n",
       "      <td>0.365719</td>\n",
       "      <td>0.811315</td>\n",
       "      <td>0.361921</td>\n",
       "      <td>0.137712</td>\n",
       "      <td>0.360677</td>\n",
       "      <td>0.357555</td>\n",
       "      <td>0</td>\n",
       "    </tr>\n",
       "  </tbody>\n",
       "</table>\n",
       "</div>"
      ],
      "text/plain": [
       "     NDVI01    NDVI02    NDVI03    NDVI04    NDVI05    NDVI06    NDVI07  \\\n",
       "0 -0.073578  0.103471  0.647052  0.519647 -1.114424 -0.664184 -0.340209   \n",
       "1 -0.220395 -0.649858 -0.730808 -0.520483 -0.027779 -0.251651 -0.138131   \n",
       "2 -0.368450 -0.765613 -0.678464 -0.351474 -0.601992  0.186889  0.077488   \n",
       "3 -0.725726 -0.741287 -0.851865 -0.842165 -1.325690 -0.900191 -0.134050   \n",
       "4 -0.664269 -0.725608 -0.402894 -0.381974 -0.195438  0.639115  0.365719   \n",
       "\n",
       "     NDVI08    NDVI09    NDVI10    NDVI11    NDVI12  CropType_rice  \n",
       "0 -0.280072 -0.386317 -0.555379 -0.048871 -0.297233              0  \n",
       "1  0.284710  0.512542  0.463263  0.466033  0.309352              0  \n",
       "2  0.593916  0.819673 -0.051147  0.500336  0.302107              0  \n",
       "3  0.310510 -0.353011 -0.287980 -0.090836 -1.543370              0  \n",
       "4  0.811315  0.361921  0.137712  0.360677  0.357555              0  "
      ]
     },
     "execution_count": 42,
     "metadata": {},
     "output_type": "execute_result"
    }
   ],
   "source": [
    "data_smote_scaled.head()"
   ]
  },
  {
   "cell_type": "code",
   "execution_count": 43,
   "metadata": {
    "execution": {
     "iopub.execute_input": "2024-12-18T13:19:37.370301Z",
     "iopub.status.busy": "2024-12-18T13:19:37.369233Z",
     "iopub.status.idle": "2024-12-18T13:19:37.456081Z",
     "shell.execute_reply": "2024-12-18T13:19:37.454917Z",
     "shell.execute_reply.started": "2024-12-18T13:19:37.370256Z"
    },
    "trusted": true
   },
   "outputs": [
    {
     "data": {
      "text/html": [
       "<div>\n",
       "<style scoped>\n",
       "    .dataframe tbody tr th:only-of-type {\n",
       "        vertical-align: middle;\n",
       "    }\n",
       "\n",
       "    .dataframe tbody tr th {\n",
       "        vertical-align: top;\n",
       "    }\n",
       "\n",
       "    .dataframe thead th {\n",
       "        text-align: right;\n",
       "    }\n",
       "</style>\n",
       "<table border=\"1\" class=\"dataframe\">\n",
       "  <thead>\n",
       "    <tr style=\"text-align: right;\">\n",
       "      <th></th>\n",
       "      <th>NDVI01</th>\n",
       "      <th>NDVI02</th>\n",
       "      <th>NDVI03</th>\n",
       "      <th>NDVI04</th>\n",
       "      <th>NDVI05</th>\n",
       "      <th>NDVI06</th>\n",
       "      <th>NDVI07</th>\n",
       "      <th>NDVI08</th>\n",
       "      <th>NDVI09</th>\n",
       "      <th>NDVI10</th>\n",
       "      <th>NDVI11</th>\n",
       "      <th>NDVI12</th>\n",
       "      <th>CropType_rice</th>\n",
       "    </tr>\n",
       "  </thead>\n",
       "  <tbody>\n",
       "    <tr>\n",
       "      <th>count</th>\n",
       "      <td>5.140900e+04</td>\n",
       "      <td>5.140900e+04</td>\n",
       "      <td>5.140900e+04</td>\n",
       "      <td>5.140900e+04</td>\n",
       "      <td>51409.000000</td>\n",
       "      <td>5.140900e+04</td>\n",
       "      <td>5.140900e+04</td>\n",
       "      <td>5.140900e+04</td>\n",
       "      <td>5.140900e+04</td>\n",
       "      <td>5.140900e+04</td>\n",
       "      <td>5.140900e+04</td>\n",
       "      <td>5.140900e+04</td>\n",
       "      <td>51409.000000</td>\n",
       "    </tr>\n",
       "    <tr>\n",
       "      <th>mean</th>\n",
       "      <td>-1.934992e-16</td>\n",
       "      <td>-1.769135e-17</td>\n",
       "      <td>8.845676e-17</td>\n",
       "      <td>-1.503765e-16</td>\n",
       "      <td>0.000000</td>\n",
       "      <td>-6.634257e-17</td>\n",
       "      <td>-6.916213e-16</td>\n",
       "      <td>-1.282623e-16</td>\n",
       "      <td>2.211419e-17</td>\n",
       "      <td>-3.836812e-16</td>\n",
       "      <td>2.211419e-16</td>\n",
       "      <td>-2.786388e-16</td>\n",
       "      <td>0.484507</td>\n",
       "    </tr>\n",
       "    <tr>\n",
       "      <th>std</th>\n",
       "      <td>1.000010e+00</td>\n",
       "      <td>1.000010e+00</td>\n",
       "      <td>1.000010e+00</td>\n",
       "      <td>1.000010e+00</td>\n",
       "      <td>1.000010</td>\n",
       "      <td>1.000010e+00</td>\n",
       "      <td>1.000010e+00</td>\n",
       "      <td>1.000010e+00</td>\n",
       "      <td>1.000010e+00</td>\n",
       "      <td>1.000010e+00</td>\n",
       "      <td>1.000010e+00</td>\n",
       "      <td>1.000010e+00</td>\n",
       "      <td>0.499765</td>\n",
       "    </tr>\n",
       "    <tr>\n",
       "      <th>min</th>\n",
       "      <td>-1.789128e+00</td>\n",
       "      <td>-1.364003e+00</td>\n",
       "      <td>-1.432955e+00</td>\n",
       "      <td>-1.666161e+00</td>\n",
       "      <td>-2.195475</td>\n",
       "      <td>-2.500876e+00</td>\n",
       "      <td>-2.579830e+00</td>\n",
       "      <td>-3.020236e+00</td>\n",
       "      <td>-3.018292e+00</td>\n",
       "      <td>-3.020262e+00</td>\n",
       "      <td>-2.683690e+00</td>\n",
       "      <td>-2.127962e+00</td>\n",
       "      <td>0.000000</td>\n",
       "    </tr>\n",
       "    <tr>\n",
       "      <th>25%</th>\n",
       "      <td>-5.548090e-01</td>\n",
       "      <td>-6.592973e-01</td>\n",
       "      <td>-7.861724e-01</td>\n",
       "      <td>-8.451607e-01</td>\n",
       "      <td>-0.775654</td>\n",
       "      <td>-8.529252e-01</td>\n",
       "      <td>-7.267994e-01</td>\n",
       "      <td>-7.120889e-01</td>\n",
       "      <td>-3.992417e-01</td>\n",
       "      <td>-4.205159e-01</td>\n",
       "      <td>-5.158398e-01</td>\n",
       "      <td>-7.653913e-01</td>\n",
       "      <td>0.000000</td>\n",
       "    </tr>\n",
       "    <tr>\n",
       "      <th>50%</th>\n",
       "      <td>-3.107744e-01</td>\n",
       "      <td>-4.311526e-01</td>\n",
       "      <td>-3.522520e-01</td>\n",
       "      <td>-1.360526e-01</td>\n",
       "      <td>0.068099</td>\n",
       "      <td>-3.089654e-01</td>\n",
       "      <td>1.541098e-01</td>\n",
       "      <td>2.393978e-01</td>\n",
       "      <td>2.996571e-01</td>\n",
       "      <td>1.996043e-01</td>\n",
       "      <td>1.314700e-01</td>\n",
       "      <td>1.515756e-01</td>\n",
       "      <td>0.000000</td>\n",
       "    </tr>\n",
       "    <tr>\n",
       "      <th>75%</th>\n",
       "      <td>7.509808e-02</td>\n",
       "      <td>2.591242e-01</td>\n",
       "      <td>5.697775e-01</td>\n",
       "      <td>8.414387e-01</td>\n",
       "      <td>0.947125</td>\n",
       "      <td>8.243899e-01</td>\n",
       "      <td>8.043827e-01</td>\n",
       "      <td>7.687662e-01</td>\n",
       "      <td>6.965112e-01</td>\n",
       "      <td>8.010292e-01</td>\n",
       "      <td>8.841205e-01</td>\n",
       "      <td>8.422438e-01</td>\n",
       "      <td>1.000000</td>\n",
       "    </tr>\n",
       "    <tr>\n",
       "      <th>max</th>\n",
       "      <td>4.836507e+00</td>\n",
       "      <td>3.644246e+00</td>\n",
       "      <td>2.747860e+00</td>\n",
       "      <td>1.959104e+00</td>\n",
       "      <td>1.394809</td>\n",
       "      <td>2.513199e+00</td>\n",
       "      <td>1.616690e+00</td>\n",
       "      <td>1.946810e+00</td>\n",
       "      <td>1.599457e+00</td>\n",
       "      <td>1.564662e+00</td>\n",
       "      <td>1.754921e+00</td>\n",
       "      <td>1.881192e+00</td>\n",
       "      <td>1.000000</td>\n",
       "    </tr>\n",
       "  </tbody>\n",
       "</table>\n",
       "</div>"
      ],
      "text/plain": [
       "             NDVI01        NDVI02        NDVI03        NDVI04        NDVI05  \\\n",
       "count  5.140900e+04  5.140900e+04  5.140900e+04  5.140900e+04  51409.000000   \n",
       "mean  -1.934992e-16 -1.769135e-17  8.845676e-17 -1.503765e-16      0.000000   \n",
       "std    1.000010e+00  1.000010e+00  1.000010e+00  1.000010e+00      1.000010   \n",
       "min   -1.789128e+00 -1.364003e+00 -1.432955e+00 -1.666161e+00     -2.195475   \n",
       "25%   -5.548090e-01 -6.592973e-01 -7.861724e-01 -8.451607e-01     -0.775654   \n",
       "50%   -3.107744e-01 -4.311526e-01 -3.522520e-01 -1.360526e-01      0.068099   \n",
       "75%    7.509808e-02  2.591242e-01  5.697775e-01  8.414387e-01      0.947125   \n",
       "max    4.836507e+00  3.644246e+00  2.747860e+00  1.959104e+00      1.394809   \n",
       "\n",
       "             NDVI06        NDVI07        NDVI08        NDVI09        NDVI10  \\\n",
       "count  5.140900e+04  5.140900e+04  5.140900e+04  5.140900e+04  5.140900e+04   \n",
       "mean  -6.634257e-17 -6.916213e-16 -1.282623e-16  2.211419e-17 -3.836812e-16   \n",
       "std    1.000010e+00  1.000010e+00  1.000010e+00  1.000010e+00  1.000010e+00   \n",
       "min   -2.500876e+00 -2.579830e+00 -3.020236e+00 -3.018292e+00 -3.020262e+00   \n",
       "25%   -8.529252e-01 -7.267994e-01 -7.120889e-01 -3.992417e-01 -4.205159e-01   \n",
       "50%   -3.089654e-01  1.541098e-01  2.393978e-01  2.996571e-01  1.996043e-01   \n",
       "75%    8.243899e-01  8.043827e-01  7.687662e-01  6.965112e-01  8.010292e-01   \n",
       "max    2.513199e+00  1.616690e+00  1.946810e+00  1.599457e+00  1.564662e+00   \n",
       "\n",
       "             NDVI11        NDVI12  CropType_rice  \n",
       "count  5.140900e+04  5.140900e+04   51409.000000  \n",
       "mean   2.211419e-16 -2.786388e-16       0.484507  \n",
       "std    1.000010e+00  1.000010e+00       0.499765  \n",
       "min   -2.683690e+00 -2.127962e+00       0.000000  \n",
       "25%   -5.158398e-01 -7.653913e-01       0.000000  \n",
       "50%    1.314700e-01  1.515756e-01       0.000000  \n",
       "75%    8.841205e-01  8.422438e-01       1.000000  \n",
       "max    1.754921e+00  1.881192e+00       1.000000  "
      ]
     },
     "execution_count": 43,
     "metadata": {},
     "output_type": "execute_result"
    }
   ],
   "source": [
    "data_smote_scaled.describe()"
   ]
  },
  {
   "cell_type": "markdown",
   "metadata": {},
   "source": [
    "##### Printing Undersampled data"
   ]
  },
  {
   "cell_type": "code",
   "execution_count": 47,
   "metadata": {},
   "outputs": [
    {
     "data": {
      "text/html": [
       "<div>\n",
       "<style scoped>\n",
       "    .dataframe tbody tr th:only-of-type {\n",
       "        vertical-align: middle;\n",
       "    }\n",
       "\n",
       "    .dataframe tbody tr th {\n",
       "        vertical-align: top;\n",
       "    }\n",
       "\n",
       "    .dataframe thead th {\n",
       "        text-align: right;\n",
       "    }\n",
       "</style>\n",
       "<table border=\"1\" class=\"dataframe\">\n",
       "  <thead>\n",
       "    <tr style=\"text-align: right;\">\n",
       "      <th></th>\n",
       "      <th>NDVI01</th>\n",
       "      <th>NDVI02</th>\n",
       "      <th>NDVI03</th>\n",
       "      <th>NDVI04</th>\n",
       "      <th>NDVI05</th>\n",
       "      <th>NDVI06</th>\n",
       "      <th>NDVI07</th>\n",
       "      <th>NDVI08</th>\n",
       "      <th>NDVI09</th>\n",
       "      <th>NDVI10</th>\n",
       "      <th>NDVI11</th>\n",
       "      <th>NDVI12</th>\n",
       "      <th>CropType_rice</th>\n",
       "    </tr>\n",
       "  </thead>\n",
       "  <tbody>\n",
       "    <tr>\n",
       "      <th>0</th>\n",
       "      <td>-0.872157</td>\n",
       "      <td>-0.840357</td>\n",
       "      <td>-0.744889</td>\n",
       "      <td>-0.988252</td>\n",
       "      <td>-1.401179</td>\n",
       "      <td>0.378513</td>\n",
       "      <td>0.016450</td>\n",
       "      <td>0.878475</td>\n",
       "      <td>0.820849</td>\n",
       "      <td>0.266713</td>\n",
       "      <td>0.256826</td>\n",
       "      <td>-0.056701</td>\n",
       "      <td>0</td>\n",
       "    </tr>\n",
       "    <tr>\n",
       "      <th>1</th>\n",
       "      <td>-0.834038</td>\n",
       "      <td>-0.978798</td>\n",
       "      <td>-1.143255</td>\n",
       "      <td>-0.602107</td>\n",
       "      <td>-0.770213</td>\n",
       "      <td>0.444417</td>\n",
       "      <td>-0.290215</td>\n",
       "      <td>0.571956</td>\n",
       "      <td>0.764591</td>\n",
       "      <td>0.563071</td>\n",
       "      <td>0.392952</td>\n",
       "      <td>-0.288027</td>\n",
       "      <td>0</td>\n",
       "    </tr>\n",
       "    <tr>\n",
       "      <th>2</th>\n",
       "      <td>-0.195560</td>\n",
       "      <td>-0.249947</td>\n",
       "      <td>-0.254425</td>\n",
       "      <td>-0.505560</td>\n",
       "      <td>-0.608509</td>\n",
       "      <td>0.205682</td>\n",
       "      <td>-0.331771</td>\n",
       "      <td>0.279853</td>\n",
       "      <td>0.960530</td>\n",
       "      <td>0.595854</td>\n",
       "      <td>0.634330</td>\n",
       "      <td>0.143302</td>\n",
       "      <td>0</td>\n",
       "    </tr>\n",
       "    <tr>\n",
       "      <th>3</th>\n",
       "      <td>-0.856792</td>\n",
       "      <td>-0.618210</td>\n",
       "      <td>-0.427841</td>\n",
       "      <td>0.096324</td>\n",
       "      <td>-0.619673</td>\n",
       "      <td>0.658177</td>\n",
       "      <td>-0.372442</td>\n",
       "      <td>0.492549</td>\n",
       "      <td>0.553463</td>\n",
       "      <td>0.043595</td>\n",
       "      <td>0.013157</td>\n",
       "      <td>-0.418555</td>\n",
       "      <td>0</td>\n",
       "    </tr>\n",
       "    <tr>\n",
       "      <th>4</th>\n",
       "      <td>-0.308192</td>\n",
       "      <td>-0.834753</td>\n",
       "      <td>-1.154640</td>\n",
       "      <td>-1.194011</td>\n",
       "      <td>-1.362678</td>\n",
       "      <td>-0.064775</td>\n",
       "      <td>-0.980254</td>\n",
       "      <td>0.238422</td>\n",
       "      <td>0.519733</td>\n",
       "      <td>-0.003525</td>\n",
       "      <td>0.070750</td>\n",
       "      <td>-1.475875</td>\n",
       "      <td>0</td>\n",
       "    </tr>\n",
       "  </tbody>\n",
       "</table>\n",
       "</div>"
      ],
      "text/plain": [
       "     NDVI01    NDVI02    NDVI03    NDVI04    NDVI05    NDVI06    NDVI07  \\\n",
       "0 -0.872157 -0.840357 -0.744889 -0.988252 -1.401179  0.378513  0.016450   \n",
       "1 -0.834038 -0.978798 -1.143255 -0.602107 -0.770213  0.444417 -0.290215   \n",
       "2 -0.195560 -0.249947 -0.254425 -0.505560 -0.608509  0.205682 -0.331771   \n",
       "3 -0.856792 -0.618210 -0.427841  0.096324 -0.619673  0.658177 -0.372442   \n",
       "4 -0.308192 -0.834753 -1.154640 -1.194011 -1.362678 -0.064775 -0.980254   \n",
       "\n",
       "     NDVI08    NDVI09    NDVI10    NDVI11    NDVI12  CropType_rice  \n",
       "0  0.878475  0.820849  0.266713  0.256826 -0.056701              0  \n",
       "1  0.571956  0.764591  0.563071  0.392952 -0.288027              0  \n",
       "2  0.279853  0.960530  0.595854  0.634330  0.143302              0  \n",
       "3  0.492549  0.553463  0.043595  0.013157 -0.418555              0  \n",
       "4  0.238422  0.519733 -0.003525  0.070750 -1.475875              0  "
      ]
     },
     "execution_count": 47,
     "metadata": {},
     "output_type": "execute_result"
    }
   ],
   "source": [
    "data_undersampled_scaled.head()"
   ]
  },
  {
   "cell_type": "code",
   "execution_count": 48,
   "metadata": {},
   "outputs": [
    {
     "data": {
      "text/html": [
       "<div>\n",
       "<style scoped>\n",
       "    .dataframe tbody tr th:only-of-type {\n",
       "        vertical-align: middle;\n",
       "    }\n",
       "\n",
       "    .dataframe tbody tr th {\n",
       "        vertical-align: top;\n",
       "    }\n",
       "\n",
       "    .dataframe thead th {\n",
       "        text-align: right;\n",
       "    }\n",
       "</style>\n",
       "<table border=\"1\" class=\"dataframe\">\n",
       "  <thead>\n",
       "    <tr style=\"text-align: right;\">\n",
       "      <th></th>\n",
       "      <th>NDVI01</th>\n",
       "      <th>NDVI02</th>\n",
       "      <th>NDVI03</th>\n",
       "      <th>NDVI04</th>\n",
       "      <th>NDVI05</th>\n",
       "      <th>NDVI06</th>\n",
       "      <th>NDVI07</th>\n",
       "      <th>NDVI08</th>\n",
       "      <th>NDVI09</th>\n",
       "      <th>NDVI10</th>\n",
       "      <th>NDVI11</th>\n",
       "      <th>NDVI12</th>\n",
       "      <th>CropType_rice</th>\n",
       "    </tr>\n",
       "  </thead>\n",
       "  <tbody>\n",
       "    <tr>\n",
       "      <th>count</th>\n",
       "      <td>4.327000e+03</td>\n",
       "      <td>4.327000e+03</td>\n",
       "      <td>4.327000e+03</td>\n",
       "      <td>4.327000e+03</td>\n",
       "      <td>4.327000e+03</td>\n",
       "      <td>4.327000e+03</td>\n",
       "      <td>4.327000e+03</td>\n",
       "      <td>4.327000e+03</td>\n",
       "      <td>4.327000e+03</td>\n",
       "      <td>4.327000e+03</td>\n",
       "      <td>4.327000e+03</td>\n",
       "      <td>4.327000e+03</td>\n",
       "      <td>4327.000000</td>\n",
       "    </tr>\n",
       "    <tr>\n",
       "      <th>mean</th>\n",
       "      <td>3.218543e-16</td>\n",
       "      <td>9.195839e-17</td>\n",
       "      <td>-1.839168e-16</td>\n",
       "      <td>1.576429e-16</td>\n",
       "      <td>-1.839168e-16</td>\n",
       "      <td>-9.852684e-17</td>\n",
       "      <td>-2.528856e-16</td>\n",
       "      <td>1.707799e-16</td>\n",
       "      <td>2.397486e-16</td>\n",
       "      <td>4.663604e-16</td>\n",
       "      <td>-1.576429e-16</td>\n",
       "      <td>2.496013e-16</td>\n",
       "      <td>0.490409</td>\n",
       "    </tr>\n",
       "    <tr>\n",
       "      <th>std</th>\n",
       "      <td>1.000116e+00</td>\n",
       "      <td>1.000116e+00</td>\n",
       "      <td>1.000116e+00</td>\n",
       "      <td>1.000116e+00</td>\n",
       "      <td>1.000116e+00</td>\n",
       "      <td>1.000116e+00</td>\n",
       "      <td>1.000116e+00</td>\n",
       "      <td>1.000116e+00</td>\n",
       "      <td>1.000116e+00</td>\n",
       "      <td>1.000116e+00</td>\n",
       "      <td>1.000116e+00</td>\n",
       "      <td>1.000116e+00</td>\n",
       "      <td>0.499966</td>\n",
       "    </tr>\n",
       "    <tr>\n",
       "      <th>min</th>\n",
       "      <td>-1.750408e+00</td>\n",
       "      <td>-1.340084e+00</td>\n",
       "      <td>-1.724288e+00</td>\n",
       "      <td>-2.187066e+00</td>\n",
       "      <td>-2.585904e+00</td>\n",
       "      <td>-2.242643e+00</td>\n",
       "      <td>-3.092809e+00</td>\n",
       "      <td>-2.624257e+00</td>\n",
       "      <td>-2.917056e+00</td>\n",
       "      <td>-2.961820e+00</td>\n",
       "      <td>-2.744974e+00</td>\n",
       "      <td>-2.212591e+00</td>\n",
       "      <td>0.000000</td>\n",
       "    </tr>\n",
       "    <tr>\n",
       "      <th>25%</th>\n",
       "      <td>-5.685337e-01</td>\n",
       "      <td>-7.301279e-01</td>\n",
       "      <td>-8.557402e-01</td>\n",
       "      <td>-8.276710e-01</td>\n",
       "      <td>-7.685054e-01</td>\n",
       "      <td>-8.724800e-01</td>\n",
       "      <td>-5.316656e-01</td>\n",
       "      <td>-7.434639e-01</td>\n",
       "      <td>-4.029041e-01</td>\n",
       "      <td>-3.832384e-01</td>\n",
       "      <td>-4.630399e-01</td>\n",
       "      <td>-6.747244e-01</td>\n",
       "      <td>0.000000</td>\n",
       "    </tr>\n",
       "    <tr>\n",
       "      <th>50%</th>\n",
       "      <td>-3.282198e-01</td>\n",
       "      <td>-4.434240e-01</td>\n",
       "      <td>-2.974207e-01</td>\n",
       "      <td>1.944073e-02</td>\n",
       "      <td>1.560950e-01</td>\n",
       "      <td>-1.054090e-02</td>\n",
       "      <td>1.383970e-01</td>\n",
       "      <td>2.786910e-01</td>\n",
       "      <td>3.071292e-01</td>\n",
       "      <td>2.045544e-01</td>\n",
       "      <td>1.023768e-01</td>\n",
       "      <td>1.629105e-01</td>\n",
       "      <td>0.000000</td>\n",
       "    </tr>\n",
       "    <tr>\n",
       "      <th>75%</th>\n",
       "      <td>8.800073e-02</td>\n",
       "      <td>5.055193e-01</td>\n",
       "      <td>8.191864e-01</td>\n",
       "      <td>9.335044e-01</td>\n",
       "      <td>9.128814e-01</td>\n",
       "      <td>8.834787e-01</td>\n",
       "      <td>7.665873e-01</td>\n",
       "      <td>8.128901e-01</td>\n",
       "      <td>7.015538e-01</td>\n",
       "      <td>7.608544e-01</td>\n",
       "      <td>8.677667e-01</td>\n",
       "      <td>8.357930e-01</td>\n",
       "      <td>1.000000</td>\n",
       "    </tr>\n",
       "    <tr>\n",
       "      <th>max</th>\n",
       "      <td>4.603633e+00</td>\n",
       "      <td>3.292762e+00</td>\n",
       "      <td>2.215207e+00</td>\n",
       "      <td>1.607228e+00</td>\n",
       "      <td>1.321214e+00</td>\n",
       "      <td>2.074270e+00</td>\n",
       "      <td>1.517411e+00</td>\n",
       "      <td>2.178801e+00</td>\n",
       "      <td>1.634817e+00</td>\n",
       "      <td>1.649215e+00</td>\n",
       "      <td>1.692050e+00</td>\n",
       "      <td>1.736960e+00</td>\n",
       "      <td>1.000000</td>\n",
       "    </tr>\n",
       "  </tbody>\n",
       "</table>\n",
       "</div>"
      ],
      "text/plain": [
       "             NDVI01        NDVI02        NDVI03        NDVI04        NDVI05  \\\n",
       "count  4.327000e+03  4.327000e+03  4.327000e+03  4.327000e+03  4.327000e+03   \n",
       "mean   3.218543e-16  9.195839e-17 -1.839168e-16  1.576429e-16 -1.839168e-16   \n",
       "std    1.000116e+00  1.000116e+00  1.000116e+00  1.000116e+00  1.000116e+00   \n",
       "min   -1.750408e+00 -1.340084e+00 -1.724288e+00 -2.187066e+00 -2.585904e+00   \n",
       "25%   -5.685337e-01 -7.301279e-01 -8.557402e-01 -8.276710e-01 -7.685054e-01   \n",
       "50%   -3.282198e-01 -4.434240e-01 -2.974207e-01  1.944073e-02  1.560950e-01   \n",
       "75%    8.800073e-02  5.055193e-01  8.191864e-01  9.335044e-01  9.128814e-01   \n",
       "max    4.603633e+00  3.292762e+00  2.215207e+00  1.607228e+00  1.321214e+00   \n",
       "\n",
       "             NDVI06        NDVI07        NDVI08        NDVI09        NDVI10  \\\n",
       "count  4.327000e+03  4.327000e+03  4.327000e+03  4.327000e+03  4.327000e+03   \n",
       "mean  -9.852684e-17 -2.528856e-16  1.707799e-16  2.397486e-16  4.663604e-16   \n",
       "std    1.000116e+00  1.000116e+00  1.000116e+00  1.000116e+00  1.000116e+00   \n",
       "min   -2.242643e+00 -3.092809e+00 -2.624257e+00 -2.917056e+00 -2.961820e+00   \n",
       "25%   -8.724800e-01 -5.316656e-01 -7.434639e-01 -4.029041e-01 -3.832384e-01   \n",
       "50%   -1.054090e-02  1.383970e-01  2.786910e-01  3.071292e-01  2.045544e-01   \n",
       "75%    8.834787e-01  7.665873e-01  8.128901e-01  7.015538e-01  7.608544e-01   \n",
       "max    2.074270e+00  1.517411e+00  2.178801e+00  1.634817e+00  1.649215e+00   \n",
       "\n",
       "             NDVI11        NDVI12  CropType_rice  \n",
       "count  4.327000e+03  4.327000e+03    4327.000000  \n",
       "mean  -1.576429e-16  2.496013e-16       0.490409  \n",
       "std    1.000116e+00  1.000116e+00       0.499966  \n",
       "min   -2.744974e+00 -2.212591e+00       0.000000  \n",
       "25%   -4.630399e-01 -6.747244e-01       0.000000  \n",
       "50%    1.023768e-01  1.629105e-01       0.000000  \n",
       "75%    8.677667e-01  8.357930e-01       1.000000  \n",
       "max    1.692050e+00  1.736960e+00       1.000000  "
      ]
     },
     "execution_count": 48,
     "metadata": {},
     "output_type": "execute_result"
    }
   ],
   "source": [
    "data_undersampled_scaled.describe()"
   ]
  },
  {
   "cell_type": "markdown",
   "metadata": {},
   "source": [
    "## Principal Component Analysis\n",
    "\n",
    "**Principal Component Analysis (PCA)** is a dimensionality reduction technique used in machine learning and statistics. It transforms high-dimensional data into a lower-dimensional space by identifying the directions (principal components) that maximize variance while minimizing information loss. PCA works by calculating the eigenvectors and eigenvalues of the data covariance matrix to project the data onto a new set of orthogonal axesatasets.\n",
    "\n",
    "PCA is widely used in preprocessing for tasks like data compression, noise reduction, and exploratory data analysis.\n",
    "nalysis.\n"
   ]
  },
  {
   "cell_type": "markdown",
   "metadata": {},
   "source": [
    "### Apply PCA on SMOTE"
   ]
  },
  {
   "cell_type": "code",
   "execution_count": 80,
   "metadata": {
    "execution": {
     "iopub.execute_input": "2024-12-18T13:20:10.985243Z",
     "iopub.status.busy": "2024-12-18T13:20:10.984829Z",
     "iopub.status.idle": "2024-12-18T13:20:11.223246Z",
     "shell.execute_reply": "2024-12-18T13:20:11.219233Z",
     "shell.execute_reply.started": "2024-12-18T13:20:10.985209Z"
    },
    "trusted": true
   },
   "outputs": [],
   "source": [
    "from sklearn.decomposition import PCA\n",
    "\n",
    "non_pca_features_smote=data_smote_scaled.iloc[:, 0:12]\n",
    "\n",
    "\n",
    "# Apply PCA\n",
    "pca = PCA(n_components=2) \n",
    "pca_features_smote = pca.fit_transform(non_pca_features_smote)\n"
   ]
  },
  {
   "cell_type": "markdown",
   "metadata": {},
   "source": [
    "### Apply PCA on Undersampled"
   ]
  },
  {
   "cell_type": "code",
   "execution_count": 82,
   "metadata": {},
   "outputs": [
    {
     "name": "stdout",
     "output_type": "stream",
     "text": [
      "(4327, 12)\n",
      "(4327, 2)\n"
     ]
    }
   ],
   "source": [
    "from sklearn.decomposition import PCA\n",
    "\n",
    "\n",
    "non_pca_features_undersampled=data_undersampled_scaled.iloc[:, 0:12]\n",
    "\n",
    "\n",
    "# Apply PCA\n",
    "\n",
    "pca = PCA(n_components=2) \n",
    "pca_features_undersampled = pca.fit_transform(non_pca_features_undersampled)\n"
   ]
  },
  {
   "cell_type": "markdown",
   "metadata": {},
   "source": [
    "## Clustering on SMOTE Dataset"
   ]
  },
  {
   "cell_type": "markdown",
   "metadata": {},
   "source": [
    "## K-Means Clustering\n",
    "\n",
    "**K-Means Clustering** is a popular unsupervised machine learning algorithm used for partitioning data into distinct clusters. The algorithm divides a dataset into `K` clusters based on feature similarity. It aims to minimize the variance within each cluster and maximize the variance between clusters. The algorithm works iteratively, starting with random centroids, assigning data points to the nearest centroid, and then updating the centroids based on the assigned points. This process repeats until convergence, where the centroids no longer changecified in advance.\n"
   ]
  },
  {
   "cell_type": "markdown",
   "metadata": {},
   "source": [
    "### Elbow Method\n",
    "\n",
    "\n",
    "The **Elbow Method** is a technique used to determine the optimal number of clusters (`K`) for clustering algorithms like K-Means. The goal is to find the point at which increasing the number of clusters no longer significantly improves the clustering performance.\n",
    "\n",
    "\n"
   ]
  },
  {
   "cell_type": "code",
   "execution_count": 83,
   "metadata": {
    "execution": {
     "iopub.execute_input": "2024-12-18T13:20:13.523372Z",
     "iopub.status.busy": "2024-12-18T13:20:13.522970Z",
     "iopub.status.idle": "2024-12-18T13:20:30.708458Z",
     "shell.execute_reply": "2024-12-18T13:20:30.706832Z",
     "shell.execute_reply.started": "2024-12-18T13:20:13.523339Z"
    },
    "trusted": true
   },
   "outputs": [
    {
     "data": {
      "image/png": "[encoded data removed]",
      "text/plain": [
       "<Figure size 800x600 with 1 Axes>"
      ]
     },
     "metadata": {},
     "output_type": "display_data"
    }
   ],
   "source": [
    "import matplotlib.pyplot as plt\n",
    "from sklearn.cluster import KMeans\n",
    "\n",
    "inertia = []\n",
    "\n",
    "# Try K values from 1 to 10\n",
    "for k in range(1, 11):\n",
    "    kmeans = KMeans(n_clusters=k, random_state=42)\n",
    "    kmeans.fit(non_pca_features_smote)\n",
    "    inertia.append(kmeans.inertia_)\n",
    "\n",
    "# Plot the Elbow graph\n",
    "plt.figure(figsize=(8, 6))\n",
    "plt.plot(range(1, 11), inertia, marker='o', color='b')\n",
    "plt.title('Elbow Method For Optimal K')\n",
    "plt.xlabel('Number of Clusters (K)')\n",
    "plt.ylabel('Inertia (WCSS)')\n",
    "plt.grid(True)\n",
    "plt.show()"
   ]
  },
  {
   "cell_type": "markdown",
   "metadata": {},
   "source": [
    "### Explanation\n",
    "\n",
    "Here if we see the elbow point is saying to take k=3 almost but since we already know that we have 2 classes so we'll take k=2 clusters "
   ]
  },
  {
   "cell_type": "markdown",
   "metadata": {},
   "source": [
    "## Cluster Purity Function"
   ]
  },
  {
   "cell_type": "code",
   "execution_count": 84,
   "metadata": {
    "execution": {
     "iopub.execute_input": "2024-12-18T13:28:07.853446Z",
     "iopub.status.busy": "2024-12-18T13:28:07.852925Z",
     "iopub.status.idle": "2024-12-18T13:28:07.860661Z",
     "shell.execute_reply": "2024-12-18T13:28:07.859370Z",
     "shell.execute_reply.started": "2024-12-18T13:28:07.853406Z"
    },
    "trusted": true
   },
   "outputs": [],
   "source": [
    "from sklearn.metrics import confusion_matrix\n",
    "\n",
    "def cluster_purity(y_true, y_pred):\n",
    "    \"\"\"\n",
    "    Calculate cluster purity given true labels and predicted clusters.\n",
    "    \"\"\"\n",
    "    # Confusion matrix: Rows are true labels, Columns are predicted clusters\n",
    "    contingency_matrix = confusion_matrix(y_true, y_pred)\n",
    "    \n",
    "    # Maximum count per cluster (dominant class for each cluster)\n",
    "    max_counts = np.amax(contingency_matrix, axis=0)\n",
    "    \n",
    "    # Purity calculation\n",
    "    purity = np.sum(max_counts) / np.sum(contingency_matrix)\n",
    "    return purity,contingency_matrix\n"
   ]
  },
  {
   "cell_type": "code",
   "execution_count": 85,
   "metadata": {
    "execution": {
     "iopub.execute_input": "2024-12-18T13:31:53.523735Z",
     "iopub.status.busy": "2024-12-18T13:31:53.523236Z",
     "iopub.status.idle": "2024-12-18T13:31:53.533619Z",
     "shell.execute_reply": "2024-12-18T13:31:53.531545Z",
     "shell.execute_reply.started": "2024-12-18T13:31:53.523697Z"
    },
    "trusted": true
   },
   "outputs": [],
   "source": [
    "import seaborn as sns\n",
    "def plot_confusion_matrix(conf_matrix, class_labels=None):\n",
    "    \"\"\"\n",
    "    Plot the confusion matrix.\n",
    "    \"\"\"\n",
    "    plt.figure(figsize=(10, 8))\n",
    "    \n",
    "    # If no class labels are provided, set default labels\n",
    "    if class_labels is None:\n",
    "        class_labels = [str(i) for i in range(conf_matrix.shape[0])]\n",
    "    \n",
    "    sns.heatmap(conf_matrix, annot=True, fmt=\"d\", cmap=\"Blues\", \n",
    "                xticklabels=class_labels, yticklabels=class_labels)\n",
    "    plt.title(\"Confusion Matrix\")\n",
    "    plt.xlabel(\"Predicted Clusters\")\n",
    "    plt.ylabel(\"True Labels\")\n",
    "    plt.show()\n"
   ]
  },
  {
   "cell_type": "markdown",
   "metadata": {},
   "source": [
    "### Applying K Means"
   ]
  },
  {
   "cell_type": "markdown",
   "metadata": {},
   "source": [
    "#### Without PCA"
   ]
  },
  {
   "cell_type": "code",
   "execution_count": 86,
   "metadata": {
    "execution": {
     "iopub.execute_input": "2024-12-18T13:28:11.299122Z",
     "iopub.status.busy": "2024-12-18T13:28:11.298207Z",
     "iopub.status.idle": "2024-12-18T13:28:12.610722Z",
     "shell.execute_reply": "2024-12-18T13:28:12.609869Z",
     "shell.execute_reply.started": "2024-12-18T13:28:11.299082Z"
    },
    "trusted": true
   },
   "outputs": [],
   "source": [
    "# Without PCA\n",
    "kmeans_raw_smote = KMeans(n_clusters=2, random_state=42)\n",
    "kmeans_clusters_raw_smote = kmeans_raw_smote.fit_predict(non_pca_features_smote)\n"
   ]
  },
  {
   "cell_type": "markdown",
   "metadata": {},
   "source": [
    "#### Cluster Priority for Non PCA"
   ]
  },
  {
   "cell_type": "code",
   "execution_count": 87,
   "metadata": {
    "execution": {
     "iopub.execute_input": "2024-12-18T13:32:22.699633Z",
     "iopub.status.busy": "2024-12-18T13:32:22.699205Z",
     "iopub.status.idle": "2024-12-18T13:32:22.716993Z",
     "shell.execute_reply": "2024-12-18T13:32:22.715721Z",
     "shell.execute_reply.started": "2024-12-18T13:32:22.699592Z"
    },
    "trusted": true
   },
   "outputs": [
    {
     "name": "stdout",
     "output_type": "stream",
     "text": [
      "Cluster Purity without PCA: 0.7094\n"
     ]
    }
   ],
   "source": [
    "kmeans_purity_raw_smote,kmeans_matrix_raw_smote = cluster_purity(data_smote_scaled[\"CropType_rice\"], kmeans_clusters_raw_smote)\n",
    "\n",
    "print(f\"Cluster Purity without PCA: {kmeans_purity_raw_smote:.4f}\")\n",
    "\n"
   ]
  },
  {
   "cell_type": "markdown",
   "metadata": {},
   "source": [
    "#### Confusion Matrix\n"
   ]
  },
  {
   "cell_type": "code",
   "execution_count": 88,
   "metadata": {
    "execution": {
     "iopub.execute_input": "2024-12-18T13:32:26.210853Z",
     "iopub.status.busy": "2024-12-18T13:32:26.209775Z",
     "iopub.status.idle": "2024-12-18T13:32:26.563891Z",
     "shell.execute_reply": "2024-12-18T13:32:26.562482Z",
     "shell.execute_reply.started": "2024-12-18T13:32:26.210804Z"
    },
    "trusted": true
   },
   "outputs": [
    {
     "data": {
      "image/png": "[encoded data removed]",
      "text/plain": [
       "<Figure size 1000x800 with 2 Axes>"
      ]
     },
     "metadata": {},
     "output_type": "display_data"
    }
   ],
   "source": [
    "from sklearn.metrics import silhouette_score\n",
    "\n",
    "plot_confusion_matrix(kmeans_matrix_raw_smote)\n"
   ]
  },
  {
   "cell_type": "markdown",
   "metadata": {},
   "source": [
    "#### Silhouette Score\n"
   ]
  },
  {
   "cell_type": "code",
   "execution_count": 50,
   "metadata": {
    "execution": {
     "iopub.execute_input": "2024-12-18T13:34:27.381114Z",
     "iopub.status.busy": "2024-12-18T13:34:27.380646Z",
     "iopub.status.idle": "2024-12-18T13:34:59.257076Z",
     "shell.execute_reply": "2024-12-18T13:34:59.255915Z",
     "shell.execute_reply.started": "2024-12-18T13:34:27.381079Z"
    },
    "trusted": true
   },
   "outputs": [
    {
     "name": "stdout",
     "output_type": "stream",
     "text": [
      "Silhouette Score: 0.2649\n"
     ]
    }
   ],
   "source": [
    "from sklearn.metrics import silhouette_score\n",
    "score = silhouette_score(non_pca_features_smote, kmeans_clusters_raw_smote)\n",
    "    \n",
    "print(f\"Silhouette Score: {score:.4f}\")\n"
   ]
  },
  {
   "cell_type": "markdown",
   "metadata": {},
   "source": [
    "#### With PCA"
   ]
  },
  {
   "cell_type": "code",
   "execution_count": 89,
   "metadata": {
    "execution": {
     "iopub.execute_input": "2024-12-18T13:42:37.185966Z",
     "iopub.status.busy": "2024-12-18T13:42:37.185539Z",
     "iopub.status.idle": "2024-12-18T13:42:38.333571Z",
     "shell.execute_reply": "2024-12-18T13:42:38.332691Z",
     "shell.execute_reply.started": "2024-12-18T13:42:37.185931Z"
    },
    "trusted": true
   },
   "outputs": [],
   "source": [
    "# With PCA\n",
    "kmeans_pca_smote = KMeans(n_clusters=2, random_state=42)\n",
    "kmeans_clusters_pca_smote = kmeans_pca_smote.fit_predict(pca_features_smote)\n",
    "\n"
   ]
  },
  {
   "cell_type": "markdown",
   "metadata": {},
   "source": [
    "#### Cluster Purity for PCA"
   ]
  },
  {
   "cell_type": "code",
   "execution_count": 90,
   "metadata": {
    "execution": {
     "iopub.execute_input": "2024-12-18T13:43:11.285464Z",
     "iopub.status.busy": "2024-12-18T13:43:11.285002Z",
     "iopub.status.idle": "2024-12-18T13:43:11.301448Z",
     "shell.execute_reply": "2024-12-18T13:43:11.300037Z",
     "shell.execute_reply.started": "2024-12-18T13:43:11.285426Z"
    },
    "trusted": true
   },
   "outputs": [
    {
     "name": "stdout",
     "output_type": "stream",
     "text": [
      "Cluster Purity with PCA: 0.6952\n"
     ]
    }
   ],
   "source": [
    "kmeans_purity_pca_smote, matrix_kmeans_pca_smote= cluster_purity(data_smote_scaled[\"CropType_rice\"], kmeans_clusters_pca_smote)\n",
    "\n",
    "print(f\"Cluster Purity with PCA: {kmeans_purity_pca_smote:.4f}\")\n",
    "\n"
   ]
  },
  {
   "cell_type": "markdown",
   "metadata": {},
   "source": [
    "#### Confusion Matrix"
   ]
  },
  {
   "cell_type": "code",
   "execution_count": 91,
   "metadata": {
    "execution": {
     "iopub.execute_input": "2024-12-18T13:43:32.893527Z",
     "iopub.status.busy": "2024-12-18T13:43:32.893099Z",
     "iopub.status.idle": "2024-12-18T13:43:33.262651Z",
     "shell.execute_reply": "2024-12-18T13:43:33.261053Z",
     "shell.execute_reply.started": "2024-12-18T13:43:32.893492Z"
    },
    "trusted": true
   },
   "outputs": [
    {
     "data": {
      "image/png": "[encoded data removed]",
      "text/plain": [
       "<Figure size 1000x800 with 2 Axes>"
      ]
     },
     "metadata": {},
     "output_type": "display_data"
    }
   ],
   "source": [
    "from sklearn.metrics import silhouette_score\n",
    "\n",
    "plot_confusion_matrix(matrix_kmeans_pca_smote)\n"
   ]
  },
  {
   "cell_type": "markdown",
   "metadata": {},
   "source": [
    "#### "
   ]
  },
  {
   "cell_type": "markdown",
   "metadata": {},
   "source": [
    "#### Silhouette Score"
   ]
  },
  {
   "cell_type": "code",
   "execution_count": 54,
   "metadata": {
    "execution": {
     "iopub.execute_input": "2024-12-18T13:44:34.901448Z",
     "iopub.status.busy": "2024-12-18T13:44:34.901006Z",
     "iopub.status.idle": "2024-12-18T13:45:05.963946Z",
     "shell.execute_reply": "2024-12-18T13:45:05.962691Z",
     "shell.execute_reply.started": "2024-12-18T13:44:34.901416Z"
    },
    "trusted": true
   },
   "outputs": [
    {
     "name": "stdout",
     "output_type": "stream",
     "text": [
      "Silhouette Score: 0.4083\n"
     ]
    }
   ],
   "source": [
    "from sklearn.metrics import silhouette_score\n",
    "score = silhouette_score(pca_features_smote, kmeans_clusters_pca_smote)\n",
    "    \n",
    "print(f\"Silhouette Score: {score:.4f}\")\n"
   ]
  },
  {
   "cell_type": "markdown",
   "metadata": {},
   "source": [
    "#### Visulization of Featutures"
   ]
  },
  {
   "cell_type": "code",
   "execution_count": 93,
   "metadata": {
    "execution": {
     "iopub.execute_input": "2024-12-18T13:45:15.691914Z",
     "iopub.status.busy": "2024-12-18T13:45:15.691493Z",
     "iopub.status.idle": "2024-12-18T13:45:17.081161Z",
     "shell.execute_reply": "2024-12-18T13:45:17.079410Z",
     "shell.execute_reply.started": "2024-12-18T13:45:15.691879Z"
    },
    "trusted": true
   },
   "outputs": [
    {
     "data": {
      "image/png": "[encoded data removed]",
      "text/plain": [
       "<Figure size 640x480 with 1 Axes>"
      ]
     },
     "metadata": {},
     "output_type": "display_data"
    }
   ],
   "source": [
    "# Visualization for PCA-transformed data\n",
    "plt.scatter(pca_features_smote[:, 0], pca_features_smote[:, 1], c=kmeans_clusters_pca_smote, cmap='viridis')\n",
    "plt.title(\"K-Means Clustering with PCA\")\n",
    "plt.xlabel(\"Principal Component 1\")\n",
    "plt.ylabel(\"Principal Component 2\")\n",
    "plt.show()"
   ]
  },
  {
   "cell_type": "markdown",
   "metadata": {},
   "source": [
    "#### Explanation\n",
    "\n",
    "As we can see above we have 2 clusters formed here "
   ]
  },
  {
   "cell_type": "markdown",
   "metadata": {},
   "source": [
    "## Hierarchical Clustering\n",
    "\n",
    "\n",
    "\n",
    "**Hierarchical Clustering** is an unsupervised machine learning algorithm used to build a hierarchy of clusters. Unlike K-Means, which requires the number of clusters to be specified beforehand, hierarchical clustering builds a tree-like structure called a **dendrogram**, which visually represents the nested grouping of data points at variou()\n"
   ]
  },
  {
   "cell_type": "markdown",
   "metadata": {},
   "source": [
    "#### Without PCA"
   ]
  },
  {
   "cell_type": "code",
   "execution_count": null,
   "metadata": {},
   "outputs": [],
   "source": [
    "from sklearn.cluster import AgglomerativeClustering\n",
    "from sklearn.preprocessing import StandardScaler\n",
    "from scipy.cluster.hierarchy import dendrogram, linkage\n",
    "\n",
    "# Hierarchical Clustering without PCA\n",
    "hierarchical_raw_smote = AgglomerativeClustering(n_clusters=2, linkage='ward')\n",
    "hierarchical_clusters_raw_smote = hierarchical_raw_smote.fit_predict(non_pca_features_smote)\n"
   ]
  },
  {
   "cell_type": "markdown",
   "metadata": {},
   "source": [
    "#### Cluster Purity for PCA"
   ]
  },
  {
   "cell_type": "code",
   "execution_count": null,
   "metadata": {
    "execution": {
     "iopub.execute_input": "2024-12-17T19:39:44.619950Z",
     "iopub.status.busy": "2024-12-17T19:39:44.619370Z",
     "iopub.status.idle": "2024-12-17T19:39:44.639803Z",
     "shell.execute_reply": "2024-12-17T19:39:44.638443Z",
     "shell.execute_reply.started": "2024-12-17T19:39:44.619907Z"
    },
    "trusted": true
   },
   "outputs": [
    {
     "ename": "NameError",
     "evalue": "name 'hierarchical_clusters_raw' is not defined",
     "output_type": "error",
     "traceback": [
      "\u001b[1;31m---------------------------------------------------------------------------\u001b[0m",
      "\u001b[1;31mNameError\u001b[0m                                 Traceback (most recent call last)",
      "Cell \u001b[1;32mIn[57], line 2\u001b[0m\n\u001b[0;32m      1\u001b[0m \u001b[38;5;66;03m# Calculate purity\u001b[39;00m\n\u001b[1;32m----> 2\u001b[0m hierarchical_purity_raw \u001b[38;5;241m=\u001b[39m cluster_purity(data_smote_scaled[\u001b[38;5;124m\"\u001b[39m\u001b[38;5;124mCropType_rice\u001b[39m\u001b[38;5;124m\"\u001b[39m], \u001b[43mhierarchical_clusters_raw\u001b[49m)\n\u001b[0;32m      3\u001b[0m \u001b[38;5;28mprint\u001b[39m(\u001b[38;5;124mf\u001b[39m\u001b[38;5;124m\"\u001b[39m\u001b[38;5;124mCluster Purity without PCA (Hierarchical): \u001b[39m\u001b[38;5;132;01m{\u001b[39;00mhierarchical_purity_raw\u001b[38;5;132;01m:\u001b[39;00m\u001b[38;5;124m.4f\u001b[39m\u001b[38;5;132;01m}\u001b[39;00m\u001b[38;5;124m\"\u001b[39m)\n",
      "\u001b[1;31mNameError\u001b[0m: name 'hierarchical_clusters_raw' is not defined"
     ]
    }
   ],
   "source": [
    "# Calculate purity\n",
    "hierarchical_purity_raw_smote = cluster_purity(data_smote_scaled[\"CropType_rice\"], hierarchical_clusters_raw_smote)\n",
    "print(f\"Cluster Purity without PCA (Hierarchical): {hierarchical_purity_raw_smote:.4f}\")\n"
   ]
  },
  {
   "cell_type": "markdown",
   "metadata": {},
   "source": [
    "#### With PCA"
   ]
  },
  {
   "cell_type": "code",
   "execution_count": 228,
   "metadata": {
    "execution": {
     "iopub.execute_input": "2024-12-17T19:37:49.887680Z",
     "iopub.status.busy": "2024-12-17T19:37:49.887213Z",
     "iopub.status.idle": "2024-12-17T19:39:04.416314Z",
     "shell.execute_reply": "2024-12-17T19:39:04.414896Z",
     "shell.execute_reply.started": "2024-12-17T19:37:49.887643Z"
    },
    "trusted": true
   },
   "outputs": [],
   "source": [
    "hierarchical_pca_smote = AgglomerativeClustering(n_clusters=2, linkage='ward')\n",
    "hierarchical_clusters_pca_smote = hierarchical_pca_smote.fit_predict(pca_features_smote)"
   ]
  },
  {
   "cell_type": "markdown",
   "metadata": {},
   "source": [
    "#### Cluster Purity"
   ]
  },
  {
   "cell_type": "code",
   "execution_count": 231,
   "metadata": {
    "execution": {
     "iopub.execute_input": "2024-12-17T19:39:55.584146Z",
     "iopub.status.busy": "2024-12-17T19:39:55.583544Z",
     "iopub.status.idle": "2024-12-17T19:39:55.604239Z",
     "shell.execute_reply": "2024-12-17T19:39:55.602919Z",
     "shell.execute_reply.started": "2024-12-17T19:39:55.584097Z"
    },
    "trusted": true
   },
   "outputs": [
    {
     "name": "stdout",
     "output_type": "stream",
     "text": [
      "Cluster Purity with= PCA (Hierarchical): 0.5458\n"
     ]
    }
   ],
   "source": [
    "# Calculate purity\n",
    "hierarchical_purity_raw_smote = cluster_purity(data_smote_scaled[\"CropType_rice\"], hierarchical_clusters_pca_smote)\n",
    "print(f\"Cluster Purity with= PCA (Hierarchical): {hierarchical_purity_raw_smote:.4f}\")\n"
   ]
  },
  {
   "cell_type": "markdown",
   "metadata": {},
   "source": [
    "#### Dendrogram for visualization (without PCA)"
   ]
  },
  {
   "cell_type": "code",
   "execution_count": null,
   "metadata": {
    "trusted": true
   },
   "outputs": [],
   "source": [
    "\n",
    "plt.figure(figsize=(10, 7))\n",
    "linkage_matrix_raw_smote = linkage(non_pca_features_smote, method='ward')\n",
    "dendrogram(linkage_matrix_raw)\n",
    "plt.title(\"Hierarchical Clustering Dendrogram (Without PCA)\")\n",
    "plt.xlabel(\"Data Points\")\n",
    "plt.ylabel(\"Cluster Distance\")\n",
    "plt.show()\n",
    "\n"
   ]
  },
  {
   "cell_type": "markdown",
   "metadata": {},
   "source": [
    "####  Visualization for PCA-transformed data"
   ]
  },
  {
   "cell_type": "code",
   "execution_count": null,
   "metadata": {
    "trusted": true
   },
   "outputs": [],
   "source": [
    "# Visualization for PCA-transformed data\n",
    "plt.figure(figsize=(8, 6))\n",
    "plt.scatter(pca_features_smote[:, 0], pca_features_smote[:, 1], c=hierarchical_clusters_pca_smote, cmap='viridis')\n",
    "plt.title(\"Hierarchical Clustering with PCA\")\n",
    "plt.xlabel(\"Principal Component 1\")\n",
    "plt.ylabel(\"Principal Component 2\")\n",
    "plt.show()"
   ]
  },
  {
   "cell_type": "markdown",
   "metadata": {},
   "source": [
    "\n",
    "## DBSCAN (Density-Based Spatial Clustering of Applications with Noise)\n",
    "\n",
    "**DBSCAN** is a density-based clustering algorithm that groups together points that are close to each other based on distance and density, while marking points in low-density regions as outliers. Unlike K-Means, DBSCAN does not require specifying the number of clusters in advance. It is particularly useful for identifying clusters of arbitrary shape and handling noise or outliersr points are ass\n"
   ]
  },
  {
   "cell_type": "markdown",
   "metadata": {},
   "source": [
    "#### Without PCA "
   ]
  },
  {
   "cell_type": "code",
   "execution_count": 94,
   "metadata": {
    "execution": {
     "iopub.execute_input": "2024-12-18T13:45:48.977997Z",
     "iopub.status.busy": "2024-12-18T13:45:48.977569Z",
     "iopub.status.idle": "2024-12-18T13:45:56.807757Z",
     "shell.execute_reply": "2024-12-18T13:45:56.806616Z",
     "shell.execute_reply.started": "2024-12-18T13:45:48.977954Z"
    },
    "trusted": true
   },
   "outputs": [],
   "source": [
    "from sklearn.cluster import DBSCAN\n",
    "\n",
    "# DBSCAN without PCA\n",
    "dbscan_raw = DBSCAN(eps=0.5, min_samples=5)  # Adjust eps and min_samples as needed\n",
    "dbscan_clusters_raw_smote = dbscan_raw.fit_predict(non_pca_features_smote)\n",
    "\n"
   ]
  },
  {
   "cell_type": "markdown",
   "metadata": {},
   "source": [
    "#### Cluster Purity"
   ]
  },
  {
   "cell_type": "code",
   "execution_count": 95,
   "metadata": {
    "execution": {
     "iopub.execute_input": "2024-12-18T13:46:01.438061Z",
     "iopub.status.busy": "2024-12-18T13:46:01.437646Z",
     "iopub.status.idle": "2024-12-18T13:46:01.484930Z",
     "shell.execute_reply": "2024-12-18T13:46:01.483809Z",
     "shell.execute_reply.started": "2024-12-18T13:46:01.438025Z"
    },
    "trusted": true
   },
   "outputs": [
    {
     "name": "stdout",
     "output_type": "stream",
     "text": [
      "Cluster Purity without PCA (DBSCAN): 0.8750\n"
     ]
    }
   ],
   "source": [
    "dbscan_purity_raw_smote,matrix_dbscan_raw_smote = cluster_purity(data_smote_scaled[\"CropType_rice\"], dbscan_clusters_raw_smote)\n",
    "\n",
    "\n",
    "print(f\"Cluster Purity without PCA (DBSCAN): {dbscan_purity_raw_smote:.4f}\")\n"
   ]
  },
  {
   "cell_type": "markdown",
   "metadata": {},
   "source": [
    "#### Confusion Matrix"
   ]
  },
  {
   "cell_type": "code",
   "execution_count": null,
   "metadata": {},
   "outputs": [],
   "source": [
    "plot_confusion_matrix(matrix_dbscan_raw_smote)"
   ]
  },
  {
   "cell_type": "markdown",
   "metadata": {},
   "source": [
    "#### Silhouette Score"
   ]
  },
  {
   "cell_type": "code",
   "execution_count": null,
   "metadata": {
    "trusted": true
   },
   "outputs": [],
   "source": [
    "from sklearn.metrics import silhouette_score\n",
    "score = silhouette_score(non_pca_features, dbscan_clusters_raw)\n",
    "    \n",
    "print(f\"Silhouette Score: {score:.4f}\")\n"
   ]
  },
  {
   "cell_type": "markdown",
   "metadata": {},
   "source": [
    "#### With PCA"
   ]
  },
  {
   "cell_type": "code",
   "execution_count": 72,
   "metadata": {
    "execution": {
     "iopub.execute_input": "2024-12-17T20:28:22.291360Z",
     "iopub.status.busy": "2024-12-17T20:28:22.290933Z",
     "iopub.status.idle": "2024-12-17T20:28:25.587304Z",
     "shell.execute_reply": "2024-12-17T20:28:25.585925Z",
     "shell.execute_reply.started": "2024-12-17T20:28:22.291326Z"
    },
    "trusted": true
   },
   "outputs": [],
   "source": [
    "# DBSCAN with PCA\n",
    "dbscan_pca_smote = DBSCAN(eps=0.5, min_samples=5)  # Adjust eps and min_samples as needed\n",
    "dbscan_clusters_pca_smote= dbscan_pca.fit_predict(pca_features)\n"
   ]
  },
  {
   "cell_type": "markdown",
   "metadata": {},
   "source": [
    "#### Cluster Purity"
   ]
  },
  {
   "cell_type": "code",
   "execution_count": 73,
   "metadata": {
    "execution": {
     "iopub.execute_input": "2024-12-17T20:28:31.490767Z",
     "iopub.status.busy": "2024-12-17T20:28:31.490285Z",
     "iopub.status.idle": "2024-12-17T20:28:31.510356Z",
     "shell.execute_reply": "2024-12-17T20:28:31.508613Z",
     "shell.execute_reply.started": "2024-12-17T20:28:31.490731Z"
    },
    "trusted": true
   },
   "outputs": [
    {
     "name": "stdout",
     "output_type": "stream",
     "text": [
      "Cluster Purity with PCA (DBSCAN): 0.5000\n"
     ]
    }
   ],
   "source": [
    "dbscan_purity_pca_smote,matrix_dbscan_pca_smote = cluster_purity(data_smote_scaled[\"CropType_rice\"], dbscan_clusters_pca_smote)\n",
    "\n",
    "\n",
    "print(f\"Cluster Purity with PCA (DBSCAN): {dbscan_purity_pca_smote:.4f}\")\n"
   ]
  },
  {
   "cell_type": "markdown",
   "metadata": {},
   "source": [
    "#### Silhoutte Score"
   ]
  },
  {
   "cell_type": "code",
   "execution_count": null,
   "metadata": {
    "trusted": true
   },
   "outputs": [],
   "source": [
    "from sklearn.metrics import silhouette_score\n",
    "score = silhouette_score(pca_features, dbscan_clusters_pca)\n",
    "    \n",
    "print(f\"Silhouette Score: {score:.4f}\")"
   ]
  },
  {
   "cell_type": "markdown",
   "metadata": {},
   "source": [
    "#### Confusion Matrix"
   ]
  },
  {
   "cell_type": "code",
   "execution_count": null,
   "metadata": {
    "trusted": true
   },
   "outputs": [],
   "source": [
    "plot_confusion_matrix(matrix_dbscan_pca_smote)"
   ]
  },
  {
   "cell_type": "markdown",
   "metadata": {},
   "source": [
    "#### Visualization\n"
   ]
  },
  {
   "cell_type": "code",
   "execution_count": 74,
   "metadata": {
    "execution": {
     "iopub.execute_input": "2024-12-17T20:28:35.169434Z",
     "iopub.status.busy": "2024-12-17T20:28:35.169012Z",
     "iopub.status.idle": "2024-12-17T20:28:36.451322Z",
     "shell.execute_reply": "2024-12-17T20:28:36.449872Z",
     "shell.execute_reply.started": "2024-12-17T20:28:35.169399Z"
    },
    "trusted": true
   },
   "outputs": [
    {
     "data": {
      "image/png": "[encoded data removed]",
      "text/plain": [
       "<Figure size 800x600 with 1 Axes>"
      ]
     },
     "metadata": {},
     "output_type": "display_data"
    }
   ],
   "source": [
    "# Visualization: DBSCAN Clustering Results with PCA\n",
    "plt.figure(figsize=(8, 6))\n",
    "plt.scatter(pca_features[:, 0], pca_features[:, 1], c=dbscan_clusters_pca, cmap='viridis', s=20)\n",
    "plt.title(\"DBSCAN Clustering with PCA\")\n",
    "plt.xlabel(\"Principal Component 1\")\n",
    "plt.ylabel(\"Principal Component 2\")\n",
    "plt.show()"
   ]
  },
  {
   "cell_type": "markdown",
   "metadata": {},
   "source": [
    "\n",
    "## Gaussian Mixture Models (GMM)\n",
    "\n",
    "**Gaussian Mixture Models (GMM)** are a probabilistic unsupervised learning algorithm used for clustering. GMM assumes that the data is generated from a mixture of several Gaussian (normal) distributions with unknown parameters. It is more flexible than K-Means because it can model clusters of different shapes, sizes, and orientations.: Probability of data\n"
   ]
  },
  {
   "cell_type": "markdown",
   "metadata": {},
   "source": [
    "#### Without PCA\n"
   ]
  },
  {
   "cell_type": "code",
   "execution_count": 79,
   "metadata": {
    "execution": {
     "iopub.execute_input": "2024-12-17T20:29:15.818716Z",
     "iopub.status.busy": "2024-12-17T20:29:15.818270Z",
     "iopub.status.idle": "2024-12-17T20:29:17.219398Z",
     "shell.execute_reply": "2024-12-17T20:29:17.217614Z",
     "shell.execute_reply.started": "2024-12-17T20:29:15.818680Z"
    },
    "trusted": true
   },
   "outputs": [],
   "source": [
    "from sklearn.mixture import GaussianMixture\n",
    "\n",
    "# Gaussian Mixture Model without PCA\n",
    "gmm_raw_smote = GaussianMixture(n_components=2, random_state=42)\n",
    "gmm_clusters_raw_smote = gmm_raw_smote.fit_predict(non_pca_features_smote)"
   ]
  },
  {
   "cell_type": "markdown",
   "metadata": {},
   "source": [
    "#### Cluster Purity\n"
   ]
  },
  {
   "cell_type": "code",
   "execution_count": 80,
   "metadata": {
    "execution": {
     "iopub.execute_input": "2024-12-17T20:29:18.733465Z",
     "iopub.status.busy": "2024-12-17T20:29:18.732702Z",
     "iopub.status.idle": "2024-12-17T20:29:18.749724Z",
     "shell.execute_reply": "2024-12-17T20:29:18.748329Z",
     "shell.execute_reply.started": "2024-12-17T20:29:18.733419Z"
    },
    "trusted": true
   },
   "outputs": [
    {
     "name": "stdout",
     "output_type": "stream",
     "text": [
      "Cluster Purity without PCA (GMM): 0.5826\n"
     ]
    }
   ],
   "source": [
    "gmm_purity_raw_smote,matrix_gmm_raw_smote= cluster_purity(data_smote_scaled[\"CropType_rice\"], gmm_clusters_raw_smote)\n",
    "\n",
    "print(f\"Cluster Purity without PCA (GMM): {gmm_purity_raw_smote:.4f}\")"
   ]
  },
  {
   "cell_type": "markdown",
   "metadata": {},
   "source": [
    "#### Silhoutte Score"
   ]
  },
  {
   "cell_type": "code",
   "execution_count": null,
   "metadata": {
    "trusted": true
   },
   "outputs": [],
   "source": [
    "from sklearn.metrics import silhouette_score\n",
    "score = silhouette_score(non_pca_features_smote, gmm_clusters_raw_smote)\n",
    "    \n",
    "print(f\"Silhouette Score: {score:.4f}\")"
   ]
  },
  {
   "cell_type": "markdown",
   "metadata": {},
   "source": [
    "#### Confusion Matrix"
   ]
  },
  {
   "cell_type": "code",
   "execution_count": null,
   "metadata": {
    "trusted": true
   },
   "outputs": [],
   "source": [
    "plot_confusion_matrix(matrix_gmm_raw_smote)"
   ]
  },
  {
   "cell_type": "markdown",
   "metadata": {},
   "source": []
  },
  {
   "cell_type": "markdown",
   "metadata": {},
   "source": [
    "#### With PCA\n"
   ]
  },
  {
   "cell_type": "code",
   "execution_count": 81,
   "metadata": {
    "execution": {
     "iopub.execute_input": "2024-12-17T20:29:23.054393Z",
     "iopub.status.busy": "2024-12-17T20:29:23.053741Z",
     "iopub.status.idle": "2024-12-17T20:29:24.018977Z",
     "shell.execute_reply": "2024-12-17T20:29:24.017743Z",
     "shell.execute_reply.started": "2024-12-17T20:29:23.054337Z"
    },
    "trusted": true
   },
   "outputs": [],
   "source": [
    "from sklearn.mixture import GaussianMixture\n",
    "\n",
    "# Gaussian Mixture Model without PCA\n",
    "gmm_pca_smote = GaussianMixture(n_components=2, random_state=42)\n",
    "gmm_clusters_pca_smote = gmm_pca_smote.fit_predict(pca_features_smote)"
   ]
  },
  {
   "cell_type": "markdown",
   "metadata": {},
   "source": [
    "#### Cluster Purity\n"
   ]
  },
  {
   "cell_type": "code",
   "execution_count": 82,
   "metadata": {
    "execution": {
     "iopub.execute_input": "2024-12-17T20:29:26.492851Z",
     "iopub.status.busy": "2024-12-17T20:29:26.492328Z",
     "iopub.status.idle": "2024-12-17T20:29:26.509868Z",
     "shell.execute_reply": "2024-12-17T20:29:26.508498Z",
     "shell.execute_reply.started": "2024-12-17T20:29:26.492787Z"
    },
    "trusted": true
   },
   "outputs": [
    {
     "name": "stdout",
     "output_type": "stream",
     "text": [
      "Cluster Purity without PCA (GMM): 0.6567\n"
     ]
    }
   ],
   "source": [
    "gmm_purity_pca_smote,matrix_gmm_pca_smote = cluster_purity(data_pca_smote[\"CropType_rice\"], gmm_clusters_pca_smote)\n",
    "\n",
    "print(f\"Cluster Purity without PCA (GMM): {gmm_purity_pca_smote:.4f}\")"
   ]
  },
  {
   "cell_type": "markdown",
   "metadata": {},
   "source": [
    "#### Silhoutte Score"
   ]
  },
  {
   "cell_type": "code",
   "execution_count": null,
   "metadata": {
    "trusted": true
   },
   "outputs": [],
   "source": [
    "from sklearn.metrics import silhouette_score\n",
    "score = silhouette_score(pca_features_smote, gmm_clusters_pca_smote)\n",
    "    \n",
    "print(f\"Silhouette Score: {score:.4f}\")"
   ]
  },
  {
   "cell_type": "markdown",
   "metadata": {},
   "source": [
    "#### Confusion Matrix"
   ]
  },
  {
   "cell_type": "code",
   "execution_count": null,
   "metadata": {
    "trusted": true
   },
   "outputs": [],
   "source": [
    "plot_confusion_matrix(matrix_gmm_pca_smote)"
   ]
  },
  {
   "cell_type": "markdown",
   "metadata": {},
   "source": [
    "#### Visualization\n"
   ]
  },
  {
   "cell_type": "code",
   "execution_count": 83,
   "metadata": {
    "execution": {
     "iopub.execute_input": "2024-12-17T20:29:29.227539Z",
     "iopub.status.busy": "2024-12-17T20:29:29.227124Z",
     "iopub.status.idle": "2024-12-17T20:29:30.596434Z",
     "shell.execute_reply": "2024-12-17T20:29:30.595246Z",
     "shell.execute_reply.started": "2024-12-17T20:29:29.227487Z"
    },
    "trusted": true
   },
   "outputs": [
    {
     "data": {
      "image/png": "[encoded data removed]",
      "text/plain": [
       "<Figure size 800x600 with 1 Axes>"
      ]
     },
     "metadata": {},
     "output_type": "display_data"
    }
   ],
   "source": [
    "# Visualization: GMM Results with PCA\n",
    "plt.figure(figsize=(8, 6))\n",
    "plt.scatter(pca_features_smote[:, 0], pca_features_smote[:, 1], c=gmm_clusters_pca_smote, cmap='viridis', s=20)\n",
    "plt.title(\"Gaussian Mixture Model Clustering with PCA\")\n",
    "plt.xlabel(\"Principal Component 1\")\n",
    "plt.ylabel(\"Principal Component 2\")\n",
    "plt.show()"
   ]
  }
 ],
 "metadata": {
  "kaggle": {
   "accelerator": "none",
   "dataSources": [
    {
     "datasetId": 6198280,
     "sourceId": 10058539,
     "sourceType": "datasetVersion"
    }
   ],
   "dockerImageVersionId": 30786,
   "isGpuEnabled": false,
   "isInternetEnabled": true,
   "language": "python",
   "sourceType": "notebook"
  },
  "kernelspec": {
   "display_name": "Python 3",
   "language": "python",
   "name": "python3"
  },
  "language_info": {
   "codemirror_mode": {
    "name": "ipython",
    "version": 3
   },
   "file_extension": ".py",
   "mimetype": "text/x-python",
   "name": "python",
   "nbconvert_exporter": "python",
   "pygments_lexer": "ipython3",
   "version": "3.11.9"
  }
 },
 "nbformat": 4,
 "nbformat_minor": 4
}
